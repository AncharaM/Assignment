{
 "cells": [
  {
   "cell_type": "markdown",
   "metadata": {},
   "source": [
    "# python dictionaries"
   ]
  },
  {
   "cell_type": "code",
   "execution_count": 1,
   "metadata": {},
   "outputs": [
    {
     "name": "stdout",
     "output_type": "stream",
     "text": [
      "{'Brand': 'Ford', 'Model': 'Mustang', 'Year': 1964}\n"
     ]
    }
   ],
   "source": [
    "thisdict = {\n",
    "    \"Brand\" : \"Ford\",\n",
    "    \"Model\" :\"Mustang\",\n",
    "    \"Year\" : 1964\n",
    "}\n",
    "print(thisdict)"
   ]
  },
  {
   "cell_type": "code",
   "execution_count": 2,
   "metadata": {},
   "outputs": [
    {
     "name": "stdout",
     "output_type": "stream",
     "text": [
      "{'Country': 'India', 'State': 'Karnataka'}\n"
     ]
    }
   ],
   "source": [
    "thisdictionary = {\n",
    "    \"Country\" : \"India\",\n",
    "    \"State\" : \"Karnataka\"\n",
    "}\n",
    "print(thisdictionary)"
   ]
  },
  {
   "cell_type": "code",
   "execution_count": 3,
   "metadata": {},
   "outputs": [
    {
     "name": "stdout",
     "output_type": "stream",
     "text": [
      "Ford\n"
     ]
    }
   ],
   "source": [
    "thisdict = {\n",
    "    \"Brand\" : \"Ford\",\n",
    "    \"Model\" :\"Mustang\",\n",
    "    \"Year\" : 1964\n",
    "}\n",
    "print(thisdict[\"Brand\"])"
   ]
  },
  {
   "cell_type": "code",
   "execution_count": 4,
   "metadata": {},
   "outputs": [
    {
     "name": "stdout",
     "output_type": "stream",
     "text": [
      "Karnataka\n"
     ]
    }
   ],
   "source": [
    "thisdictionary = {\n",
    "    \"Country\" : \"India\",\n",
    "    \"State\" : \"Karnataka\"\n",
    "}\n",
    "print(thisdictionary[\"State\"])"
   ]
  },
  {
   "cell_type": "code",
   "execution_count": 5,
   "metadata": {},
   "outputs": [
    {
     "name": "stdout",
     "output_type": "stream",
     "text": [
      "1964\n"
     ]
    }
   ],
   "source": [
    "thisdict = {\n",
    "    \"Brand\" : \"Ford\",\n",
    "    \"Model\" :\"Mustang\",\n",
    "    \"Year\" : 1964\n",
    "}\n",
    "print(thisdict[\"Year\"])"
   ]
  },
  {
   "cell_type": "code",
   "execution_count": 6,
   "metadata": {},
   "outputs": [
    {
     "name": "stdout",
     "output_type": "stream",
     "text": [
      "Mustang\n"
     ]
    }
   ],
   "source": [
    "thisdict = {\n",
    "    \"Brand\" : \"Ford\",\n",
    "    \"Model\" :\"Mustang\",\n",
    "    \"Year\" : 1964\n",
    "}\n",
    "print(thisdict[\"Model\"])"
   ]
  },
  {
   "cell_type": "code",
   "execution_count": 7,
   "metadata": {},
   "outputs": [
    {
     "name": "stdout",
     "output_type": "stream",
     "text": [
      "2000\n"
     ]
    }
   ],
   "source": [
    "thisdict = {\n",
    "    \"Brand\" : \"Ford\",\n",
    "    \"Model\" :\"Mustang\",\n",
    "    \"Year\" : 1964,\n",
    "    \"Country\" : \"India\",\n",
    "    \"Year\" : 2000\n",
    "}\n",
    "print(thisdict[\"Year\"])"
   ]
  },
  {
   "cell_type": "code",
   "execution_count": 8,
   "metadata": {},
   "outputs": [
    {
     "name": "stdout",
     "output_type": "stream",
     "text": [
      "Benz\n"
     ]
    }
   ],
   "source": [
    "thisdict = {\n",
    "    \"Brand\" : \"Ford\",\n",
    "    \"Model\" :\"Mustang\",\n",
    "    \"Year\" : 1964,\n",
    "    \"Country\" : \"India\",\n",
    "    \"Year\" : 2000,\n",
    "    \"Brand\" : \"Benz\"\n",
    "}\n",
    "print(thisdict[\"Brand\"])"
   ]
  },
  {
   "cell_type": "code",
   "execution_count": 9,
   "metadata": {},
   "outputs": [
    {
     "name": "stdout",
     "output_type": "stream",
     "text": [
      "4\n"
     ]
    }
   ],
   "source": [
    "print(len(thisdict))"
   ]
  },
  {
   "cell_type": "code",
   "execution_count": 10,
   "metadata": {},
   "outputs": [
    {
     "name": "stdout",
     "output_type": "stream",
     "text": [
      "3\n"
     ]
    }
   ],
   "source": [
    "thisdict = {\n",
    "    \"Brand\" : \"Ford\",\n",
    "    \"Model\" :\"Mustang\",\n",
    "    \"Year\" : 1964\n",
    "}\n",
    "print(len(thisdict))"
   ]
  },
  {
   "cell_type": "code",
   "execution_count": 11,
   "metadata": {},
   "outputs": [
    {
     "name": "stdout",
     "output_type": "stream",
     "text": [
      "4\n"
     ]
    }
   ],
   "source": [
    "thisdict = {\n",
    "    \"Brand\" : \"Ford\",\n",
    "    \"Model\" :\"Mustang\",\n",
    "    \"Year\" : 1964,\n",
    "    \"Country\": \"India\"\n",
    "}\n",
    "print(len(thisdict))"
   ]
  },
  {
   "cell_type": "code",
   "execution_count": 12,
   "metadata": {},
   "outputs": [
    {
     "name": "stdout",
     "output_type": "stream",
     "text": [
      "{'Brand': 'Ford', 'Model': 'Mustang', 'Year': 1964, 'Country': 'India', 'Colours': ['Red', 'White', 'Blue']}\n",
      "<class 'dict'>\n"
     ]
    }
   ],
   "source": [
    "thisdict = {\n",
    "    \"Brand\" : \"Ford\",\n",
    "    \"Model\" :\"Mustang\",\n",
    "    \"Year\" : 1964,\n",
    "    \"Country\": \"India\",\n",
    "    \"Colours\":[\"Red\",\"White\", \"Blue\"]\n",
    "}\n",
    "print(thisdict)\n",
    "print(type(thisdict))"
   ]
  },
  {
   "cell_type": "code",
   "execution_count": 13,
   "metadata": {},
   "outputs": [
    {
     "name": "stdout",
     "output_type": "stream",
     "text": [
      "{'Brand': 'Ford', 'Model': 'Mustang', 'Year': 2020, 'Country': 'India', 'Colours': ['Red', 'White', 'Blue']}\n",
      "<class 'dict'>\n",
      "5\n"
     ]
    }
   ],
   "source": [
    "thisdict = {\n",
    "    \"Brand\" : \"Ford\",\n",
    "    \"Model\" :\"Mustang\",\n",
    "    \"Year\" : 1964,\n",
    "    \"Country\": \"India\",\n",
    "    \"Colours\":[\"Red\",\"White\", \"Blue\"]\n",
    "}\n",
    "thisdict[\"Year\"] = 2020\n",
    "print(thisdict)\n",
    "print(type(thisdict))\n",
    "print(len(thisdict))"
   ]
  },
  {
   "cell_type": "code",
   "execution_count": 14,
   "metadata": {},
   "outputs": [
    {
     "name": "stdout",
     "output_type": "stream",
     "text": [
      "{'Brand': 'Ford', 'Model': 'Mustang', 'Year': 2022, 'Country': 'India', 'Colours': ['Red', 'White', 'Blue'], 'Aditya': 'First Owner'}\n"
     ]
    }
   ],
   "source": [
    "thisdict = {\n",
    "    \"Brand\" : \"Ford\",\n",
    "    \"Model\" :\"Mustang\",\n",
    "    \"Year\" : 2022,\n",
    "    \"Country\": \"India\",\n",
    "    \"Colours\":[\"Red\",\"White\", \"Blue\"]\n",
    "}\n",
    "thisdict.update({\"Aditya\":\"First Owner\"})\n",
    "print(thisdict)"
   ]
  },
  {
   "cell_type": "code",
   "execution_count": 15,
   "metadata": {},
   "outputs": [
    {
     "name": "stdout",
     "output_type": "stream",
     "text": [
      "{'Brand': 'Ford', 'Model': 'Mustang', 'Year': 2022, 'Country': 'India'}\n"
     ]
    }
   ],
   "source": [
    "thisdict = {\n",
    "    \"Brand\" : \"Ford\",\n",
    "    \"Model\" :\"Mustang\",\n",
    "    \"Year\" : 2022,\n",
    "    \"Country\": \"India\",\n",
    "    \"Colours\":[\"Red\",\"White\", \"Blue\"]\n",
    "}\n",
    "thisdict.pop(\"Colours\")\n",
    "print(thisdict)"
   ]
  },
  {
   "cell_type": "code",
   "execution_count": 16,
   "metadata": {},
   "outputs": [
    {
     "name": "stdout",
     "output_type": "stream",
     "text": [
      "{'Brand': 'Ford', 'Year': 2022, 'Country': 'India', 'Colours': ['Red', 'White', 'Blue']}\n"
     ]
    }
   ],
   "source": [
    "thisdict = {\n",
    "    \"Brand\" : \"Ford\",\n",
    "    \"Model\" :\"Mustang\",\n",
    "    \"Year\" : 2022,\n",
    "    \"Country\": \"India\",\n",
    "    \"Colours\":[\"Red\",\"White\", \"Blue\"]\n",
    "}\n",
    "thisdict.pop(\"Model\")\n",
    "print(thisdict)"
   ]
  },
  {
   "cell_type": "code",
   "execution_count": 17,
   "metadata": {},
   "outputs": [
    {
     "name": "stdout",
     "output_type": "stream",
     "text": [
      "{'Brand': 'Ford', 'Model': 'Mustang', 'Country': 'India', 'Colours': ['Red', 'White', 'Blue']}\n"
     ]
    }
   ],
   "source": [
    "thisdict = {\n",
    "    \"Brand\" : \"Ford\",\n",
    "    \"Model\" :\"Mustang\",\n",
    "    \"Year\" : 2022,\n",
    "    \"Country\": \"India\",\n",
    "    \"Colours\":[\"Red\",\"White\", \"Blue\"]\n",
    "}\n",
    "del thisdict[\"Year\"]\n",
    "print(thisdict)"
   ]
  },
  {
   "cell_type": "code",
   "execution_count": 18,
   "metadata": {},
   "outputs": [
    {
     "name": "stdout",
     "output_type": "stream",
     "text": [
      "{'Model': 'Mustang', 'Year': 2022, 'Country': 'India', 'Colours': ['Red', 'White', 'Blue']}\n"
     ]
    }
   ],
   "source": [
    "thisdict = {\n",
    "    \"Brand\" : \"Ford\",\n",
    "    \"Model\" :\"Mustang\",\n",
    "    \"Year\" : 2022,\n",
    "    \"Country\": \"India\",\n",
    "    \"Colours\":[\"Red\",\"White\", \"Blue\"]\n",
    "}\n",
    "del thisdict[\"Brand\"]\n",
    "print(thisdict)"
   ]
  },
  {
   "cell_type": "code",
   "execution_count": 19,
   "metadata": {},
   "outputs": [
    {
     "name": "stdout",
     "output_type": "stream",
     "text": [
      "{}\n"
     ]
    }
   ],
   "source": [
    "thisdict = {\n",
    "    \"Brand\" : \"Ford\",\n",
    "    \"Model\" :\"Mustang\",\n",
    "    \"Year\" : 2022,\n",
    "    \"Country\": \"India\",\n",
    "    \"Colours\":[\"Red\",\"White\", \"Blue\"]\n",
    "}\n",
    "thisdict.clear()\n",
    "print(thisdict)"
   ]
  },
  {
   "cell_type": "code",
   "execution_count": 20,
   "metadata": {},
   "outputs": [
    {
     "name": "stdout",
     "output_type": "stream",
     "text": [
      "{'Brand': 'Ford', 'Model': 'Mustang', 'Year': 2022, 'Country': 'India', 'Colours': ['Red', 'White', 'Blue']}\n"
     ]
    }
   ],
   "source": [
    "thisdict = {\n",
    "    \"Brand\" : \"Ford\",\n",
    "    \"Model\" :\"Mustang\",\n",
    "    \"Year\" : 2022,\n",
    "    \"Country\": \"India\",\n",
    "    \"Colours\":[\"Red\",\"White\", \"Blue\"]\n",
    "}\n",
    "newdict = thisdict.copy()\n",
    "print(newdict)"
   ]
  },
  {
   "cell_type": "code",
   "execution_count": 21,
   "metadata": {},
   "outputs": [
    {
     "name": "stdout",
     "output_type": "stream",
     "text": [
      "{'Child1': {'Name': 'Manasi', 'Year': 2002}, 'Child2': {'Name': 'Vikas', 'Year': 1985}, 'Child3': {'Name': 'Payal', 'Year': 2007}}\n"
     ]
    }
   ],
   "source": [
    "thisdict = {\n",
    "    \"Child1\":{\n",
    "        \"Name\": \"Manasi\",\n",
    "        \"Year\": 2002\n",
    "    },\n",
    "    \"Child2\":{\n",
    "        \"Name\":\"Vikas\",\n",
    "        \"Year\": 1985\n",
    "    },\n",
    "    \"Child3\" :{\n",
    "        \"Name\":\"Payal\",\n",
    "        \"Year\": 2007\n",
    "    }\n",
    "}\n",
    "print(thisdict)"
   ]
  },
  {
   "cell_type": "code",
   "execution_count": 22,
   "metadata": {},
   "outputs": [
    {
     "name": "stdout",
     "output_type": "stream",
     "text": [
      "b is greater than a\n"
     ]
    }
   ],
   "source": [
    "a = 33\n",
    "b = 200\n",
    "if b>a:\n",
    "    print(\"b is greater than a\")\n"
   ]
  },
  {
   "cell_type": "code",
   "execution_count": 23,
   "metadata": {},
   "outputs": [
    {
     "name": "stdout",
     "output_type": "stream",
     "text": [
      "b is not greater than a\n"
     ]
    }
   ],
   "source": [
    "a = 330\n",
    "b = 200\n",
    "if b>a:\n",
    "    print(\"b is greater than a\")\n",
    "else:\n",
    "    print(\"b is not greater than a\")"
   ]
  },
  {
   "cell_type": "code",
   "execution_count": 24,
   "metadata": {},
   "outputs": [
    {
     "name": "stdout",
     "output_type": "stream",
     "text": [
      "a and b are equal\n"
     ]
    }
   ],
   "source": [
    "a = 200\n",
    "b = 200\n",
    "if b>a:\n",
    "    print(\"b is greater than a\")\n",
    "elif a>b:\n",
    "    print(\"b is not greater than a\")\n",
    "else:\n",
    "    print(\"a and b are equal\")"
   ]
  },
  {
   "cell_type": "code",
   "execution_count": 25,
   "metadata": {},
   "outputs": [
    {
     "name": "stdout",
     "output_type": "stream",
     "text": [
      "b is greater than a\n"
     ]
    }
   ],
   "source": [
    "a = 20\n",
    "b = 200\n",
    "if b>a:\n",
    "    print(\"b is greater than a\")\n",
    "elif a>b:\n",
    "    print(\"b is not greater than a\")\n",
    "else:\n",
    "    print(\"a and b are equal\")"
   ]
  },
  {
   "cell_type": "code",
   "execution_count": 26,
   "metadata": {},
   "outputs": [
    {
     "name": "stdout",
     "output_type": "stream",
     "text": [
      "b is not greater than a\n"
     ]
    }
   ],
   "source": [
    "a = 200\n",
    "b = 20\n",
    "if b>a:\n",
    "    print(\"b is greater than a\")\n",
    "elif a>b:\n",
    "    print(\"b is not greater than a\")\n",
    "else:\n",
    "    print(\"a and b are equal\")"
   ]
  },
  {
   "cell_type": "code",
   "execution_count": 27,
   "metadata": {},
   "outputs": [
    {
     "name": "stdout",
     "output_type": "stream",
     "text": [
      "b is greater than a\n"
     ]
    }
   ],
   "source": [
    "a = 20\n",
    "b = 200\n",
    "if b>a: print(\"b is greater than a\")\n"
   ]
  },
  {
   "cell_type": "code",
   "execution_count": 28,
   "metadata": {},
   "outputs": [
    {
     "name": "stdout",
     "output_type": "stream",
     "text": [
      "b is not greater than a\n"
     ]
    }
   ],
   "source": [
    "a = 200\n",
    "b = 20\n",
    "if b>a: print(\"b is greater than a\")\n",
    "elif a>b: print(\"b is not greater than a\")\n",
    "else: print(\"a and b are equal\")"
   ]
  },
  {
   "cell_type": "code",
   "execution_count": 29,
   "metadata": {},
   "outputs": [
    {
     "name": "stdout",
     "output_type": "stream",
     "text": [
      "a and b are equal\n"
     ]
    }
   ],
   "source": [
    "a = 200\n",
    "b = 200\n",
    "if b>a: print(\"b is greater than a\")\n",
    "elif a>b: print(\"b is not greater than a\")\n",
    "else: print(\"a and b are equal\")"
   ]
  },
  {
   "cell_type": "code",
   "execution_count": 30,
   "metadata": {},
   "outputs": [
    {
     "name": "stdout",
     "output_type": "stream",
     "text": [
      "both conditions are true\n"
     ]
    }
   ],
   "source": [
    "a = 333\n",
    "b = 33\n",
    "c = 340\n",
    "if a>b and c>a: print(\"both conditions are true\")"
   ]
  },
  {
   "cell_type": "code",
   "execution_count": 31,
   "metadata": {},
   "outputs": [
    {
     "name": "stdout",
     "output_type": "stream",
     "text": [
      "Atleast one of the condition is true\n"
     ]
    }
   ],
   "source": [
    "a = 333\n",
    "b = 33\n",
    "c = 340\n",
    "if a>b or c>a: print(\"Atleast one of the condition is true\")"
   ]
  },
  {
   "cell_type": "code",
   "execution_count": 32,
   "metadata": {},
   "outputs": [
    {
     "name": "stdout",
     "output_type": "stream",
     "text": [
      "Atleast one of the condition is true\n"
     ]
    }
   ],
   "source": [
    "a = 333\n",
    "b = 33\n",
    "c = 3\n",
    "if a>b or c>a: print(\"Atleast one of the condition is true\")"
   ]
  },
  {
   "cell_type": "markdown",
   "metadata": {},
   "source": [
    "# nested if"
   ]
  },
  {
   "cell_type": "code",
   "execution_count": 33,
   "metadata": {},
   "outputs": [
    {
     "name": "stdout",
     "output_type": "stream",
     "text": [
      "It is above the value of 10\n",
      "It is above the value of 20\n"
     ]
    }
   ],
   "source": [
    "x = 41\n",
    "if x>10:\n",
    "    print(\"It is above the value of 10\")\n",
    "    if x>20:\n",
    "        print(\"It is above the value of 20\")\n",
    "    else:\n",
    "        print(\"but not above 20\")"
   ]
  },
  {
   "cell_type": "code",
   "execution_count": 34,
   "metadata": {},
   "outputs": [
    {
     "name": "stdout",
     "output_type": "stream",
     "text": [
      "It is above the value of 10\n",
      "but not above 20\n"
     ]
    }
   ],
   "source": [
    "x = 41\n",
    "if x>10:\n",
    "    print(\"It is above the value of 10\")\n",
    "    if x>50:\n",
    "        print(\"It is above the value of 20\")\n",
    "    else:\n",
    "        print(\"but not above 20\")"
   ]
  },
  {
   "cell_type": "markdown",
   "metadata": {},
   "source": [
    "# while loop "
   ]
  },
  {
   "cell_type": "code",
   "execution_count": 35,
   "metadata": {},
   "outputs": [
    {
     "name": "stdout",
     "output_type": "stream",
     "text": [
      "1\n",
      "2\n",
      "3\n",
      "4\n",
      "5\n"
     ]
    }
   ],
   "source": [
    "i = 1\n",
    "while i<6:\n",
    "    print(i)\n",
    "    i+= 1"
   ]
  },
  {
   "cell_type": "code",
   "execution_count": 36,
   "metadata": {},
   "outputs": [
    {
     "name": "stdout",
     "output_type": "stream",
     "text": [
      "10\n",
      "9\n",
      "8\n",
      "7\n"
     ]
    }
   ],
   "source": [
    "i = 10\n",
    "while i>6:\n",
    "    print(i)\n",
    "    i-= 1"
   ]
  },
  {
   "cell_type": "code",
   "execution_count": 37,
   "metadata": {},
   "outputs": [
    {
     "name": "stdout",
     "output_type": "stream",
     "text": [
      "1\n",
      "2\n",
      "3\n"
     ]
    }
   ],
   "source": [
    "i = 1\n",
    "while i<6:\n",
    "    print(i)\n",
    "    if i==3:\n",
    "        break\n",
    "    i+= 1"
   ]
  },
  {
   "cell_type": "code",
   "execution_count": 38,
   "metadata": {},
   "outputs": [
    {
     "name": "stdout",
     "output_type": "stream",
     "text": [
      "1\n",
      "2\n",
      "3\n",
      "4\n",
      "5\n",
      "i is no longer less than 6\n"
     ]
    }
   ],
   "source": [
    "i = 1\n",
    "while i<6:\n",
    "    print(i)\n",
    "    i+= 1\n",
    "else:\n",
    "    print(\"i is no longer less than 6\")"
   ]
  },
  {
   "cell_type": "code",
   "execution_count": 39,
   "metadata": {},
   "outputs": [
    {
     "name": "stdout",
     "output_type": "stream",
     "text": [
      "1\n",
      "2\n",
      "3\n",
      "4\n",
      "5\n",
      "6\n",
      "7\n",
      "i is no longer less than 8\n"
     ]
    }
   ],
   "source": [
    "i= 1\n",
    "while i<8:\n",
    "    print(i)\n",
    "    i+= 1\n",
    "else:\n",
    "    print(\"i is no longer less than 8\")"
   ]
  },
  {
   "cell_type": "code",
   "execution_count": null,
   "metadata": {},
   "outputs": [],
   "source": [
    "## to find h.c.f and l.c.m using euclid's algorithm\n",
    "# python programs to find H.C.F of two input numbers\n",
    "def computeHCF(x,y):\n",
    "\n",
    "# choose the smaller number\n",
    "    if x>y:\n",
    "         smaller = y\n",
    "    else:\n",
    "         smaller = x\n",
    "    for i in range(1, smaller+1):\n",
    "         if((x % i == 0) and (y % i == 0)):\n",
    "            hcf= i\n",
    "    return hcf\n",
    "\n",
    "num1 = int(input(\"enter first number\"))\n",
    "num2 = int(input(\"enter second number\"))\n",
    "\n",
    "print(\"The H.C.F of \", num1,\"and\", num2, \"is\", computeHCF(num1,num2))\n"
   ]
  },
  {
   "cell_type": "code",
   "execution_count": null,
   "metadata": {},
   "outputs": [],
   "source": [
    "def computeHCF(x,y):\n",
    "\n",
    "# choose the smaller number\n",
    "    if x>y:\n",
    "        smaller = y\n",
    "    else:\n",
    "        smaller = x\n",
    "    for i in range(1, smaller+1):\n",
    "        if((x % i == 0) and (y % i == 0)):\n",
    "            hcf= i\n",
    "    return hcf\n",
    "\n",
    "num1 = int(input(\"enter first number\"))\n",
    "num2 = int(input(\"enter second number\"))\n",
    "\n",
    "print(\"The H.C.F of \", num1,\"and\", num2, \"is\")\n",
    "print(computeHCF(num1,num2))\n",
    "    "
   ]
  },
  {
   "cell_type": "code",
   "execution_count": null,
   "metadata": {},
   "outputs": [],
   "source": [
    "## python program to find L.C.M of two input numbers\n",
    "def lcm(x,y):\n",
    "\n",
    "    if x>y:\n",
    "        greater = x\n",
    "    else:\n",
    "        greater = y\n",
    "    while(True):\n",
    "        if ((greater % x == 0)and (greater % y == 0)):\n",
    "            lcm = greater\n",
    "            break\n",
    "        greater += 1\n",
    "    return lcm\n",
    "num1 = int(input(\"enter first number\"))\n",
    "num2 = int(input(\"enter second number\"))\n",
    "print(\"The LCM of\", num1, \"and\",num2, \"is\", lcm(num1,num2) )"
   ]
  },
  {
   "cell_type": "code",
   "execution_count": null,
   "metadata": {},
   "outputs": [],
   "source": []
  }
 ],
 "metadata": {
  "kernelspec": {
   "display_name": "Python 3",
   "language": "python",
   "name": "python3"
  },
  "language_info": {
   "codemirror_mode": {
    "name": "ipython",
    "version": 3
   },
   "file_extension": ".py",
   "mimetype": "text/x-python",
   "name": "python",
   "nbconvert_exporter": "python",
   "pygments_lexer": "ipython3",
   "version": "3.8.3"
  }
 },
 "nbformat": 4,
 "nbformat_minor": 4
}
