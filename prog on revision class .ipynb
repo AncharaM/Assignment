{
 "cells": [
  {
   "cell_type": "code",
   "execution_count": 9,
   "metadata": {},
   "outputs": [
    {
     "name": "stdout",
     "output_type": "stream",
     "text": [
      "Welcome to the Revision class of Python\n"
     ]
    }
   ],
   "source": [
    "print('Welcome to the Revision class of Python')"
   ]
  },
  {
   "cell_type": "code",
   "execution_count": 10,
   "metadata": {},
   "outputs": [
    {
     "name": "stdout",
     "output_type": "stream",
     "text": [
      "Welcome to the Revision Classof Python\n"
     ]
    }
   ],
   "source": [
    "print(\"Welcome to the Revision Classof Python\")"
   ]
  },
  {
   "cell_type": "code",
   "execution_count": 11,
   "metadata": {},
   "outputs": [],
   "source": [
    "if 5 > 12:\n",
    "    print('Welcome to the Revision class of Python')"
   ]
  },
  {
   "cell_type": "code",
   "execution_count": 12,
   "metadata": {},
   "outputs": [
    {
     "name": "stdout",
     "output_type": "stream",
     "text": [
      "Welcome to the Revision class of Python\n"
     ]
    }
   ],
   "source": [
    "if 5 > 2:\n",
    "    print('Welcome to the Revision class of Python')"
   ]
  },
  {
   "cell_type": "code",
   "execution_count": 5,
   "metadata": {},
   "outputs": [
    {
     "name": "stdout",
     "output_type": "stream",
     "text": [
      "Welcome to the Revision class of Python\n",
      "Welcome to the Revision class of Python 1\n"
     ]
    }
   ],
   "source": [
    "if 5 > 2:\n",
    "    print('Welcome to the Revision class of Python')\n",
    "    print('Welcome to the Revision class of Python 1')"
   ]
  },
  {
   "cell_type": "code",
   "execution_count": 13,
   "metadata": {},
   "outputs": [],
   "source": [
    "x=5 \n",
    "y= \"hello world\""
   ]
  },
  {
   "cell_type": "code",
   "execution_count": 7,
   "metadata": {},
   "outputs": [
    {
     "data": {
      "text/plain": [
       "5"
      ]
     },
     "execution_count": 7,
     "metadata": {},
     "output_type": "execute_result"
    }
   ],
   "source": [
    "x"
   ]
  },
  {
   "cell_type": "code",
   "execution_count": 14,
   "metadata": {},
   "outputs": [
    {
     "data": {
      "text/plain": [
       "'hello world'"
      ]
     },
     "execution_count": 14,
     "metadata": {},
     "output_type": "execute_result"
    }
   ],
   "source": [
    "y"
   ]
  },
  {
   "cell_type": "code",
   "execution_count": 15,
   "metadata": {},
   "outputs": [
    {
     "name": "stdout",
     "output_type": "stream",
     "text": [
      "5\n",
      "hello world\n"
     ]
    }
   ],
   "source": [
    "x=5 \n",
    "y= \"hello world\"\n",
    "print(x)\n",
    "print(y)"
   ]
  },
  {
   "cell_type": "code",
   "execution_count": 16,
   "metadata": {},
   "outputs": [
    {
     "name": "stdout",
     "output_type": "stream",
     "text": [
      "<class 'int'>\n",
      "<class 'str'>\n"
     ]
    }
   ],
   "source": [
    "x=5 \n",
    "y= \"hello world\"\n",
    "print(type(x))\n",
    "print(type(y))"
   ]
  },
  {
   "cell_type": "code",
   "execution_count": 17,
   "metadata": {},
   "outputs": [
    {
     "name": "stdout",
     "output_type": "stream",
     "text": [
      "<class 'float'>\n",
      "<class 'complex'>\n"
     ]
    }
   ],
   "source": [
    "x=50.1\n",
    "y= 1j\n",
    "print(type(x))\n",
    "print(type(y))"
   ]
  },
  {
   "cell_type": "code",
   "execution_count": 18,
   "metadata": {},
   "outputs": [
    {
     "name": "stdout",
     "output_type": "stream",
     "text": [
      "<class 'list'>\n",
      "<class 'str'>\n"
     ]
    }
   ],
   "source": [
    "x=[\"Apple\",\"Bannana\", \"Watermelon\"] \n",
    "y= \"orange\"\n",
    "print(type(x))\n",
    "print(type(y))"
   ]
  },
  {
   "cell_type": "code",
   "execution_count": 20,
   "metadata": {},
   "outputs": [
    {
     "name": "stdout",
     "output_type": "stream",
     "text": [
      "<class 'tuple'>\n"
     ]
    }
   ],
   "source": [
    "x=(\"Apple\",\"Bannana\", \"Watermelon\")\n",
    "print(type(x))"
   ]
  },
  {
   "cell_type": "code",
   "execution_count": 24,
   "metadata": {},
   "outputs": [
    {
     "name": "stdout",
     "output_type": "stream",
     "text": [
      "<class 'dict'>\n",
      "{'Name': 'Apple', 'type': 'Fruit'}\n"
     ]
    }
   ],
   "source": [
    "x= {\"Name\":\"Apple\", \"type\" : \"Fruit\"}\n",
    "print(type(x))\n",
    "print(x)"
   ]
  },
  {
   "cell_type": "code",
   "execution_count": 29,
   "metadata": {},
   "outputs": [
    {
     "name": "stdout",
     "output_type": "stream",
     "text": [
      "<class 'frozenset'>\n",
      "frozenset({'Cherry', 'Apple', 'Orange', 'Name'})\n"
     ]
    }
   ],
   "source": [
    "x= frozenset({\"Name\",\"Apple\",\"Orange\",\"Cherry\"})\n",
    "print(type(x))\n",
    "print(x)"
   ]
  },
  {
   "cell_type": "code",
   "execution_count": 3,
   "metadata": {},
   "outputs": [
    {
     "name": "stdout",
     "output_type": "stream",
     "text": [
      "True\n",
      "<class 'bool'>\n"
     ]
    }
   ],
   "source": [
    "x= True\n",
    "print(x)\n",
    "print(type(x))"
   ]
  },
  {
   "cell_type": "code",
   "execution_count": 5,
   "metadata": {},
   "outputs": [
    {
     "name": "stdout",
     "output_type": "stream",
     "text": [
      "b'True'\n",
      "<class 'bytes'>\n"
     ]
    }
   ],
   "source": [
    "x = b\"True\"\n",
    "print(x)\n",
    "print(type(x))"
   ]
  },
  {
   "cell_type": "code",
   "execution_count": 30,
   "metadata": {},
   "outputs": [
    {
     "name": "stdout",
     "output_type": "stream",
     "text": [
      "bytearray(b'\\x00\\x00\\x00\\x00\\x00')\n",
      "<class 'bytearray'>\n"
     ]
    }
   ],
   "source": [
    "x = bytearray(5)\n",
    "print(x)\n",
    "print(type(x))"
   ]
  },
  {
   "cell_type": "code",
   "execution_count": 1,
   "metadata": {},
   "outputs": [],
   "source": [
    "x= memoryview(bytes(5))"
   ]
  },
  {
   "cell_type": "code",
   "execution_count": 2,
   "metadata": {},
   "outputs": [
    {
     "data": {
      "text/plain": [
       "<memory at 0x0000029648A5B040>"
      ]
     },
     "execution_count": 2,
     "metadata": {},
     "output_type": "execute_result"
    }
   ],
   "source": [
    "x"
   ]
  },
  {
   "cell_type": "code",
   "execution_count": 32,
   "metadata": {},
   "outputs": [],
   "source": [
    "x = 1 #int\n",
    "y = 2.8 #float\n",
    "z = 1j #complex"
   ]
  },
  {
   "cell_type": "code",
   "execution_count": 33,
   "metadata": {},
   "outputs": [
    {
     "data": {
      "text/plain": [
       "2.8"
      ]
     },
     "execution_count": 33,
     "metadata": {},
     "output_type": "execute_result"
    }
   ],
   "source": [
    "y"
   ]
  },
  {
   "cell_type": "code",
   "execution_count": 34,
   "metadata": {},
   "outputs": [
    {
     "data": {
      "text/plain": [
       "complex"
      ]
     },
     "execution_count": 34,
     "metadata": {},
     "output_type": "execute_result"
    }
   ],
   "source": [
    "type(x)\n",
    "type(y)\n",
    "type(z)"
   ]
  },
  {
   "cell_type": "code",
   "execution_count": 35,
   "metadata": {},
   "outputs": [
    {
     "name": "stdout",
     "output_type": "stream",
     "text": [
      "<class 'int'>\n",
      "<class 'float'>\n",
      "<class 'complex'>\n"
     ]
    }
   ],
   "source": [
    "print(type(x))\n",
    "print(type(y))\n",
    "print(type(z))"
   ]
  },
  {
   "cell_type": "code",
   "execution_count": 36,
   "metadata": {},
   "outputs": [
    {
     "name": "stdout",
     "output_type": "stream",
     "text": [
      "<class 'int'>\n",
      "<class 'int'>\n",
      "<class 'int'>\n"
     ]
    }
   ],
   "source": [
    "x = int(1)\n",
    "y = int(9.8)\n",
    "z = int(\"3\")\n",
    "print(type(x))\n",
    "print(type(y))\n",
    "print(type(z))"
   ]
  },
  {
   "cell_type": "code",
   "execution_count": 37,
   "metadata": {},
   "outputs": [
    {
     "name": "stdout",
     "output_type": "stream",
     "text": [
      "<class 'str'>\n",
      "<class 'str'>\n",
      "<class 'str'>\n"
     ]
    }
   ],
   "source": [
    "x = str(\"PKN\")\n",
    "y = str(9.8)\n",
    "z = str(\"3\")\n",
    "print(type(x))\n",
    "print(type(y))\n",
    "print(type(z))"
   ]
  },
  {
   "cell_type": "code",
   "execution_count": 38,
   "metadata": {},
   "outputs": [
    {
     "name": "stdout",
     "output_type": "stream",
     "text": [
      "<class 'str'>\n",
      "<class 'str'>\n",
      "<class 'str'>\n"
     ]
    }
   ],
   "source": [
    "x = str(\"PKN\")\n",
    "y = str(9.8)\n",
    "z = str(3)\n",
    "print(type(x))\n",
    "print(type(y))\n",
    "print(type(z))"
   ]
  },
  {
   "cell_type": "code",
   "execution_count": 42,
   "metadata": {},
   "outputs": [
    {
     "name": "stdout",
     "output_type": "stream",
     "text": [
      "Aditya has a doubt,  \n",
      "which is regarding scan,\n",
      "which we need to address,\n",
      "the concept\n"
     ]
    }
   ],
   "source": [
    "a = '''Aditya has a doubt,  \n",
    "which is regarding scan,\n",
    "which we need to address,\n",
    "the concept'''\n",
    "print(a)"
   ]
  },
  {
   "cell_type": "code",
   "execution_count": 43,
   "metadata": {},
   "outputs": [
    {
     "name": "stdout",
     "output_type": "stream",
     "text": [
      "True\n",
      "False\n",
      "False\n"
     ]
    }
   ],
   "source": [
    "print(10 > 9)\n",
    "print(10 == 9)\n",
    "print(10 < 9)"
   ]
  },
  {
   "cell_type": "code",
   "execution_count": 46,
   "metadata": {},
   "outputs": [
    {
     "name": "stdout",
     "output_type": "stream",
     "text": [
      "a is greater than b\n"
     ]
    }
   ],
   "source": [
    "a = 200\n",
    "b = 33\n",
    "if b>a:\n",
    "    print(\"b is greater than a\")\n",
    "else:\n",
    "    print(\"a is greater than b\")"
   ]
  },
  {
   "cell_type": "code",
   "execution_count": 45,
   "metadata": {},
   "outputs": [
    {
     "name": "stdout",
     "output_type": "stream",
     "text": [
      "b is  not greater than a\n"
     ]
    }
   ],
   "source": [
    "a = 200\n",
    "b = 33\n",
    "if b>a:\n",
    "    print(\"b is greater than a\")\n",
    "else:\n",
    "    print(\"b is  not greater than a\")"
   ]
  },
  {
   "cell_type": "code",
   "execution_count": 47,
   "metadata": {},
   "outputs": [
    {
     "name": "stdout",
     "output_type": "stream",
     "text": [
      "b is greater than a\n"
     ]
    }
   ],
   "source": [
    "a = 20\n",
    "b = 33\n",
    "if b>a:\n",
    "    print(\"b is greater than a\")\n",
    "else:\n",
    "    print(\"b is not greater than a\")"
   ]
  },
  {
   "cell_type": "code",
   "execution_count": 48,
   "metadata": {},
   "outputs": [
    {
     "name": "stdout",
     "output_type": "stream",
     "text": [
      "15\n"
     ]
    }
   ],
   "source": [
    "print(10 + 5)"
   ]
  },
  {
   "cell_type": "code",
   "execution_count": 49,
   "metadata": {},
   "outputs": [
    {
     "name": "stdout",
     "output_type": "stream",
     "text": [
      "6\n",
      "-2\n"
     ]
    }
   ],
   "source": [
    "x = 2\n",
    "y = 4\n",
    "print(x+y)\n",
    "print(x-y)"
   ]
  },
  {
   "cell_type": "code",
   "execution_count": 52,
   "metadata": {},
   "outputs": [
    {
     "name": "stdout",
     "output_type": "stream",
     "text": [
      "6\n",
      "-2\n",
      "8\n",
      "16\n",
      "0.5\n",
      "2\n",
      "0\n"
     ]
    }
   ],
   "source": [
    "x = 2\n",
    "y = 4\n",
    "print(x+y)\n",
    "print(x-y)\n",
    "print(x*y)\n",
    "print(x**y)\n",
    "print(x / y)\n",
    "print(x % y)\n",
    "print(x // y)"
   ]
  },
  {
   "cell_type": "code",
   "execution_count": 53,
   "metadata": {},
   "outputs": [],
   "source": [
    "thisislist = [\"Apple\", \"Banana\",\"Grapes\"]"
   ]
  },
  {
   "cell_type": "code",
   "execution_count": 54,
   "metadata": {},
   "outputs": [
    {
     "data": {
      "text/plain": [
       "['Apple', 'Banana', 'Grapes']"
      ]
     },
     "execution_count": 54,
     "metadata": {},
     "output_type": "execute_result"
    }
   ],
   "source": [
    "thisislist"
   ]
  },
  {
   "cell_type": "code",
   "execution_count": 55,
   "metadata": {},
   "outputs": [
    {
     "data": {
      "text/plain": [
       "list"
      ]
     },
     "execution_count": 55,
     "metadata": {},
     "output_type": "execute_result"
    }
   ],
   "source": [
    "type(thisislist)"
   ]
  },
  {
   "cell_type": "code",
   "execution_count": 57,
   "metadata": {},
   "outputs": [
    {
     "name": "stdout",
     "output_type": "stream",
     "text": [
      "['Apple', 'Banana', 'Grapes', 'Apple 1', 'Banana 1', 'Grapes 1']\n"
     ]
    }
   ],
   "source": [
    "thisislist = [\"Apple\", \"Banana\",\"Grapes\",\"Apple 1\", \"Banana 1\",\"Grapes 1\"]\n",
    "print(thisislist)"
   ]
  },
  {
   "cell_type": "code",
   "execution_count": 58,
   "metadata": {},
   "outputs": [
    {
     "name": "stdout",
     "output_type": "stream",
     "text": [
      "Banana\n"
     ]
    }
   ],
   "source": [
    "thisislist = [\"Apple\", \"Banana\",\"Grapes\",\"Apple 1\", \"Banana 1\",\"Grapes 1\"]\n",
    "print(thisislist[1])"
   ]
  },
  {
   "cell_type": "code",
   "execution_count": 59,
   "metadata": {},
   "outputs": [
    {
     "name": "stdout",
     "output_type": "stream",
     "text": [
      "Apple\n"
     ]
    }
   ],
   "source": [
    "thisislist = [\"Apple\", \"Banana\",\"Grapes\",\"Apple 1\", \"Banana 1\",\"Grapes 1\"]\n",
    "print(thisislist[0])"
   ]
  },
  {
   "cell_type": "code",
   "execution_count": 60,
   "metadata": {},
   "outputs": [
    {
     "name": "stdout",
     "output_type": "stream",
     "text": [
      "['Apple', 'Banana', 'Grapes', 'Apple 1']\n"
     ]
    }
   ],
   "source": [
    "thisislist = [\"Apple\", \"Banana\",\"Grapes\",\"Apple 1\", \"Banana 1\",\"Grapes 1\"]\n",
    "print(thisislist[0:4])"
   ]
  },
  {
   "cell_type": "code",
   "execution_count": 61,
   "metadata": {},
   "outputs": [
    {
     "name": "stdout",
     "output_type": "stream",
     "text": [
      "Grapes 1\n"
     ]
    }
   ],
   "source": [
    "thisislist = [\"Apple\", \"Banana\",\"Grapes\",\"Apple 1\", \"Banana 1\",\"Grapes 1\"]\n",
    "print(thisislist[-1])"
   ]
  },
  {
   "cell_type": "code",
   "execution_count": 62,
   "metadata": {},
   "outputs": [
    {
     "name": "stdout",
     "output_type": "stream",
     "text": [
      "Banana\n"
     ]
    }
   ],
   "source": [
    "thisislist = [\"Apple\", \"Banana\",\"Grapes\",\"Apple 1\", \"Banana 1\",\"Grapes 1\"]\n",
    "print(thisislist[1])"
   ]
  },
  {
   "cell_type": "code",
   "execution_count": 63,
   "metadata": {},
   "outputs": [
    {
     "name": "stdout",
     "output_type": "stream",
     "text": [
      "['Apple', 'Banana', 'Grapes', 'Apple 1']\n"
     ]
    }
   ],
   "source": [
    "thisislist = [\"Apple\", \"Banana\",\"Grapes\",\"Apple 1\", \"Banana 1\",\"Grapes 1\"]\n",
    "print(thisislist[:4])"
   ]
  },
  {
   "cell_type": "code",
   "execution_count": 64,
   "metadata": {},
   "outputs": [
    {
     "name": "stdout",
     "output_type": "stream",
     "text": [
      "['Grapes', 'Apple 1', 'Banana 1', 'Grapes 1']\n"
     ]
    }
   ],
   "source": [
    "thisislist = [\"Apple\", \"Banana\",\"Grapes\",\"Apple 1\", \"Banana 1\",\"Grapes 1\"]\n",
    "print(thisislist[2:])"
   ]
  },
  {
   "cell_type": "code",
   "execution_count": 65,
   "metadata": {},
   "outputs": [
    {
     "name": "stdout",
     "output_type": "stream",
     "text": [
      "['Apple', 'Blackcurrent', 'Grapes', 'Apple 1', 'Banana 1', 'Grapes 1']\n"
     ]
    }
   ],
   "source": [
    "thisislist = [\"Apple\", \"Banana\",\"Grapes\",\"Apple 1\", \"Banana 1\",\"Grapes 1\"]\n",
    "thisislist[1] = \"Blackcurrent\"\n",
    "print(thisislist)"
   ]
  },
  {
   "cell_type": "code",
   "execution_count": 67,
   "metadata": {},
   "outputs": [
    {
     "name": "stdout",
     "output_type": "stream",
     "text": [
      "['Apple', ['Blackcurrent', 'Watermelon'], 'Grapes', 'Apple 1', 'Banana 1', 'Grapes 1']\n"
     ]
    }
   ],
   "source": [
    "thisislist = [\"Apple\", \"Banana\",\"Grapes\",\"Apple 1\", \"Banana 1\",\"Grapes 1\"]\n",
    "thisislist[1] = [\"Blackcurrent\", \"Watermelon\"]\n",
    "print(thisislist)"
   ]
  },
  {
   "cell_type": "code",
   "execution_count": 68,
   "metadata": {},
   "outputs": [
    {
     "name": "stdout",
     "output_type": "stream",
     "text": [
      "['Apple', 'Banana', 'Grapes', 'Apple 1', ['Blackcurrent', 'Watermelon'], 'Grapes 1']\n"
     ]
    }
   ],
   "source": [
    "thisislist = [\"Apple\", \"Banana\",\"Grapes\",\"Apple 1\", \"Banana 1\",\"Grapes 1\"]\n",
    "thisislist[4] = [\"Blackcurrent\", \"Watermelon\"]\n",
    "print(thisislist)"
   ]
  },
  {
   "cell_type": "code",
   "execution_count": 69,
   "metadata": {},
   "outputs": [
    {
     "name": "stdout",
     "output_type": "stream",
     "text": [
      "['Apple', 'Banana', 'Grapes', 'Apple 1', 'Blackcurrent', 'Grapes 1']\n"
     ]
    }
   ],
   "source": [
    "thisislist = [\"Apple\", \"Banana\",\"Grapes\",\"Apple 1\", \"Banana 1\",\"Grapes 1\"]\n",
    "thisislist[4] = \"Blackcurrent\"\n",
    "print(thisislist)"
   ]
  },
  {
   "cell_type": "code",
   "execution_count": 70,
   "metadata": {},
   "outputs": [
    {
     "name": "stdout",
     "output_type": "stream",
     "text": [
      "['Apple', 'Banana', 'Grapes', 'Apple 1', ['Blackcurrent', 'Watermelon'], 'Grapes 1']\n"
     ]
    }
   ],
   "source": [
    "thisislist = [\"Apple\", \"Banana\",\"Grapes\",\"Apple 1\", \"Banana 1\",\"Grapes 1\"]\n",
    "thisislist[-2] = [\"Blackcurrent\", \"Watermelon\"]\n",
    "print(thisislist)"
   ]
  },
  {
   "cell_type": "code",
   "execution_count": 71,
   "metadata": {},
   "outputs": [
    {
     "name": "stdout",
     "output_type": "stream",
     "text": [
      "['Apple', 'Banana', 'Grapes', 'Apple 1', 'Blackcurrent', 'Grapes 1']\n"
     ]
    }
   ],
   "source": [
    "thisislist = [\"Apple\", \"Banana\",\"Grapes\",\"Apple 1\", \"Banana 1\",\"Grapes 1\"]\n",
    "thisislist[-2] = \"Blackcurrent\"\n",
    "print(thisislist)"
   ]
  },
  {
   "cell_type": "code",
   "execution_count": 72,
   "metadata": {},
   "outputs": [
    {
     "name": "stdout",
     "output_type": "stream",
     "text": [
      "['Apple', 'Banana', 'Grapes', 'Apple 1', 'Banana 1', 'Grapes 1', 'orange']\n"
     ]
    }
   ],
   "source": [
    "thisislist = [\"Apple\", \"Banana\",\"Grapes\",\"Apple 1\", \"Banana 1\",\"Grapes 1\"]\n",
    "thisislist.append(\"orange\")\n",
    "print(thisislist)"
   ]
  },
  {
   "cell_type": "code",
   "execution_count": 74,
   "metadata": {},
   "outputs": [
    {
     "name": "stdout",
     "output_type": "stream",
     "text": [
      "['Apple', 'orange', 'Banana', 'Grapes', 'Apple 1', 'Banana 1', 'Grapes 1']\n"
     ]
    }
   ],
   "source": [
    "thisislist = [\"Apple\", \"Banana\",\"Grapes\",\"Apple 1\", \"Banana 1\",\"Grapes 1\"]\n",
    "thisislist.insert(1, \"orange\")\n",
    "print(thisislist)"
   ]
  },
  {
   "cell_type": "code",
   "execution_count": 75,
   "metadata": {},
   "outputs": [
    {
     "name": "stdout",
     "output_type": "stream",
     "text": [
      "['Apple', 'Banana', 'orange', 'Grapes', 'Apple 1', 'Banana 1', 'Grapes 1']\n"
     ]
    }
   ],
   "source": [
    "thisislist = [\"Apple\", \"Banana\",\"Grapes\",\"Apple 1\", \"Banana 1\",\"Grapes 1\"]\n",
    "thisislist.insert(2, \"orange\")\n",
    "print(thisislist)"
   ]
  },
  {
   "cell_type": "code",
   "execution_count": 77,
   "metadata": {},
   "outputs": [
    {
     "name": "stdout",
     "output_type": "stream",
     "text": [
      "['Apple', 'Banana', 'Grapes', 'Apple 1', 'Banana 1', 'Grapes 1', 'Mango', 'Pineapple', 'Papaya', 'Mango 1', 'Pineapple 1', 'Papaya 1']\n"
     ]
    }
   ],
   "source": [
    "thisislist = [\"Apple\", \"Banana\",\"Grapes\",\"Apple 1\", \"Banana 1\",\"Grapes 1\"]\n",
    "tropical = [\"Mango\",\"Pineapple\",\"Papaya\",\"Mango 1\",\"Pineapple 1\",\"Papaya 1\"]\n",
    "thisislist.extend(tropical)\n",
    "print(thisislist)"
   ]
  },
  {
   "cell_type": "code",
   "execution_count": 78,
   "metadata": {},
   "outputs": [
    {
     "name": "stdout",
     "output_type": "stream",
     "text": [
      "['Apple', 'Banana', 'Grapes', 'Apple 1', 'Banana 1', 'Grapes 1', 'Mango', 'Pineapple', 'Papaya', 'Mango 1', 'Pineapple 1', 'Papaya 1', 'Guava']\n"
     ]
    }
   ],
   "source": [
    "thisislist = [\"Apple\", \"Banana\",\"Grapes\",\"Apple 1\", \"Banana 1\",\"Grapes 1\"]\n",
    "tropical = [\"Mango\",\"Pineapple\",\"Papaya\",\"Mango 1\",\"Pineapple 1\",\"Papaya 1\",\"Guava\"]\n",
    "thisislist.extend(tropical)\n",
    "print(thisislist)"
   ]
  },
  {
   "cell_type": "code",
   "execution_count": 79,
   "metadata": {},
   "outputs": [
    {
     "name": "stdout",
     "output_type": "stream",
     "text": [
      "['Apple', 'Banana', 'Grapes', 'Apple 1', 'Banana 1', 'Grapes 1', 'Mango', 'Pineapple', 'Papaya', 'Mango 1', 'Pineapple 1', 'Papaya 1']\n"
     ]
    }
   ],
   "source": [
    "thisislist = [\"Apple\", \"Banana\",\"Grapes\",\"Apple 1\", \"Banana 1\",\"Grapes 1\"]\n",
    "thisistuple = (\"Mango\",\"Pineapple\",\"Papaya\",\"Mango 1\",\"Pineapple 1\",\"Papaya 1\")\n",
    "thisislist.extend(thisistuple)\n",
    "print(thisislist)"
   ]
  },
  {
   "cell_type": "code",
   "execution_count": 82,
   "metadata": {},
   "outputs": [
    {
     "name": "stdout",
     "output_type": "stream",
     "text": [
      "['Apple', 'Grapes', 'Apple 1', 'Banana 1', 'Grapes 1']\n"
     ]
    }
   ],
   "source": [
    "thisislist = [\"Apple\", \"Banana\",\"Grapes\",\"Apple 1\", \"Banana 1\",\"Grapes 1\"]\n",
    "thisistuple = (\"Mango\",\"Pineapple\",\"Papaya\",\"Mango 1\",\"Pineapple 1\",\"Papaya 1\")\n",
    "thisislist.remove(\"Banana\")\n",
    "print(thisislist)"
   ]
  },
  {
   "cell_type": "code",
   "execution_count": 83,
   "metadata": {},
   "outputs": [
    {
     "name": "stdout",
     "output_type": "stream",
     "text": [
      "['Apple', 'Banana', 'Grapes', 'Banana 1', 'Grapes 1']\n"
     ]
    }
   ],
   "source": [
    "thisislist = [\"Apple\", \"Banana\",\"Grapes\",\"Apple 1\", \"Banana 1\",\"Grapes 1\"]\n",
    "thisistuple = (\"Mango\",\"Pineapple\",\"Papaya\",\"Mango 1\",\"Pineapple 1\",\"Papaya 1\")\n",
    "thisislist.remove(\"Apple 1\")\n",
    "print(thisislist)"
   ]
  },
  {
   "cell_type": "code",
   "execution_count": 84,
   "metadata": {},
   "outputs": [],
   "source": [
    "thisislist = [\"Apple\", \"Banana\",\"Grapes\",\"Apple 1\", \"Banana 1\",\"Grapes 1\"]\n",
    "tropical = [\"Mango\",\"Pineapple\",\"Papaya\",\"Mango 1\",\"Pineapple 1\",\"Papaya 1\"]\n",
    "del thisislist"
   ]
  },
  {
   "cell_type": "code",
   "execution_count": 85,
   "metadata": {},
   "outputs": [
    {
     "name": "stdout",
     "output_type": "stream",
     "text": [
      "[]\n"
     ]
    }
   ],
   "source": [
    "thisislist = [\"Apple\", \"Banana\",\"Grapes\",\"Apple 1\", \"Banana 1\",\"Grapes 1\"]\n",
    "tropical = [\"Mango\",\"Pineapple\",\"Papaya\",\"Mango 1\",\"Pineapple 1\",\"Papaya 1\"]\n",
    "thisislist.clear()\n",
    "print(thisislist)"
   ]
  },
  {
   "cell_type": "code",
   "execution_count": 6,
   "metadata": {},
   "outputs": [
    {
     "name": "stdout",
     "output_type": "stream",
     "text": [
      "['Banana', 'Grapes', 'Apple 1', 'Banana 1', 'Grapes 1']\n"
     ]
    }
   ],
   "source": [
    "thisislist = [\"Apple\", \"Banana\",\"Grapes\",\"Apple 1\", \"Banana 1\",\"Grapes 1\"]\n",
    "thisislist.pop(0)\n",
    "print(thisislist)"
   ]
  },
  {
   "cell_type": "markdown",
   "metadata": {},
   "source": [
    "# loops"
   ]
  },
  {
   "cell_type": "code",
   "execution_count": 86,
   "metadata": {},
   "outputs": [
    {
     "name": "stdout",
     "output_type": "stream",
     "text": [
      "Apple\n",
      "Banana\n",
      "Grapes\n",
      "Apple 1\n",
      "Banana 1\n",
      "Grapes 1\n"
     ]
    }
   ],
   "source": [
    "thisislist = [\"Apple\", \"Banana\",\"Grapes\",\"Apple 1\", \"Banana 1\",\"Grapes 1\"]\n",
    "for x in thisislist:\n",
    "    print(x)"
   ]
  },
  {
   "cell_type": "code",
   "execution_count": 15,
   "metadata": {},
   "outputs": [
    {
     "name": "stdout",
     "output_type": "stream",
     "text": [
      "Apple\n",
      "Banana\n",
      "Grapes\n",
      "Apple 1\n",
      "Banana 1\n",
      "Grapes 1\n"
     ]
    }
   ],
   "source": [
    "thisislist = [\"Apple\", \"Banana\",\"Grapes\",\"Apple 1\", \"Banana 1\",\"Grapes 1\"]\n",
    "for i in range (len(thisislist)):\n",
    "    print(thisislist[i])"
   ]
  },
  {
   "cell_type": "code",
   "execution_count": 72,
   "metadata": {},
   "outputs": [
    {
     "name": "stdout",
     "output_type": "stream",
     "text": [
      "Apple\n",
      "Banana\n",
      "Cherry\n"
     ]
    },
    {
     "data": {
      "text/plain": [
       "[None, None, None]"
      ]
     },
     "execution_count": 72,
     "metadata": {},
     "output_type": "execute_result"
    }
   ],
   "source": [
    "thisislist = [\"Apple\",\"Banana\",\"Cherry\"]\n",
    "[print (thisislist[i]) for i in range (len(thisislist))]"
   ]
  },
  {
   "cell_type": "code",
   "execution_count": 93,
   "metadata": {},
   "outputs": [
    {
     "name": "stdout",
     "output_type": "stream",
     "text": [
      "Apple\n",
      "Banana\n",
      "Cherry\n"
     ]
    },
    {
     "data": {
      "text/plain": [
       "[None, None, None]"
      ]
     },
     "execution_count": 93,
     "metadata": {},
     "output_type": "execute_result"
    }
   ],
   "source": [
    "thisislist = [\"Apple\",\"Banana\",\"Cherry\"]\n",
    "[print (x) for x in thisislist]"
   ]
  },
  {
   "cell_type": "code",
   "execution_count": 101,
   "metadata": {},
   "outputs": [
    {
     "name": "stdout",
     "output_type": "stream",
     "text": [
      "['apple', 'Banana', 'Mango']\n"
     ]
    }
   ],
   "source": [
    "fruits = [\"apple\",\"Banana\",\"Cherry\",\"kiwi\",\"Mango\"]\n",
    "newlist = []\n",
    "for x in fruits:\n",
    "    if \"a\"in x:\n",
    "        newlist.append(x)\n",
    "print(newlist)"
   ]
  },
  {
   "cell_type": "code",
   "execution_count": 100,
   "metadata": {},
   "outputs": [
    {
     "name": "stdout",
     "output_type": "stream",
     "text": [
      "['apple', 'Banana', 'Mango']\n"
     ]
    }
   ],
   "source": [
    "fruits = [\"apple\",\"Banana\",\"Cherry\",\"kiwi\",\"Mango\"]\n",
    "newlist = [x for x in fruits if \"a\" in x]\n",
    "print(newlist)"
   ]
  },
  {
   "cell_type": "code",
   "execution_count": 1,
   "metadata": {},
   "outputs": [
    {
     "name": "stdout",
     "output_type": "stream",
     "text": [
      "['Bannana', 'Mango', 'Orange', 'Pineapple', 'kiwi']\n"
     ]
    }
   ],
   "source": [
    "thisislist = [\"Orange\",\"Mango\",\"kiwi\",\"Pineapple\",\"Bannana\"]\n",
    "thisislist.sort()\n",
    "print(thisislist)"
   ]
  },
  {
   "cell_type": "code",
   "execution_count": 2,
   "metadata": {},
   "outputs": [
    {
     "name": "stdout",
     "output_type": "stream",
     "text": [
      "[2, 22, 40, 50, 78, 83, 100]\n"
     ]
    }
   ],
   "source": [
    "thisislist = [100,40,50,2,22,83,78]\n",
    "thisislist.sort()\n",
    "print(thisislist)"
   ]
  },
  {
   "cell_type": "code",
   "execution_count": 3,
   "metadata": {},
   "outputs": [
    {
     "name": "stdout",
     "output_type": "stream",
     "text": [
      "['kiwi', 'Pineapple', 'Orange', 'Mango', 'Bannana']\n"
     ]
    }
   ],
   "source": [
    "thisislist = [\"Orange\",\"Mango\",\"kiwi\",\"Pineapple\",\"Bannana\"]\n",
    "thisislist.sort(reverse=True)\n",
    "print(thisislist)"
   ]
  },
  {
   "cell_type": "code",
   "execution_count": 4,
   "metadata": {},
   "outputs": [
    {
     "name": "stdout",
     "output_type": "stream",
     "text": [
      "[100, 83, 78, 50, 40, 22, 2]\n"
     ]
    }
   ],
   "source": [
    "thisislist = [100,40,50,2,22,83,78]\n",
    "thisislist.sort(reverse=True)\n",
    "print(thisislist)"
   ]
  },
  {
   "cell_type": "code",
   "execution_count": 5,
   "metadata": {},
   "outputs": [
    {
     "name": "stdout",
     "output_type": "stream",
     "text": [
      "['Orange', 'Mango', 'kiwi', 'Pineapple', 'Bannana']\n"
     ]
    }
   ],
   "source": [
    "thisislist = [\"Orange\",\"Mango\",\"kiwi\",\"Pineapple\",\"Bannana\"]\n",
    "newlist = thisislist.copy()\n",
    "print(newlist)"
   ]
  },
  {
   "cell_type": "code",
   "execution_count": 6,
   "metadata": {},
   "outputs": [
    {
     "name": "stdout",
     "output_type": "stream",
     "text": [
      "[100, 40, 50, 2, 22, 83, 78]\n"
     ]
    }
   ],
   "source": [
    "thisislist = [100,40,50,2,22,83,78]\n",
    "newlist = thisislist.copy()\n",
    "print(newlist)"
   ]
  },
  {
   "cell_type": "code",
   "execution_count": 7,
   "metadata": {},
   "outputs": [
    {
     "name": "stdout",
     "output_type": "stream",
     "text": [
      "['Orange', 'Mango', 'kiwi', 'Pineapple', 'Bannana', 100, 40, 50, 2, 22, 83, 78]\n"
     ]
    }
   ],
   "source": [
    "list1 = [\"Orange\",\"Mango\",\"kiwi\",\"Pineapple\",\"Bannana\"]\n",
    "list2 = [100,40,50,2,22,83,78]\n",
    "list3 = list1 + list2\n",
    "print(list3)"
   ]
  },
  {
   "cell_type": "code",
   "execution_count": 8,
   "metadata": {},
   "outputs": [
    {
     "name": "stdout",
     "output_type": "stream",
     "text": [
      "['Orange', 'Mango', 'kiwi', 'Pineapple', 'Bannana', 100, 40, 50, 2, 22, 83, 78]\n"
     ]
    }
   ],
   "source": [
    "list1 = [\"Orange\",\"Mango\",\"kiwi\",\"Pineapple\",\"Bannana\"]\n",
    "list2 = [100,40,50,2,22,83,78]\n",
    "for x in list2:\n",
    "    list1.append(x)\n",
    "print(list1)"
   ]
  },
  {
   "cell_type": "code",
   "execution_count": 9,
   "metadata": {},
   "outputs": [
    {
     "name": "stdout",
     "output_type": "stream",
     "text": [
      "['Orange', 'Mango', 'kiwi', 'Pineapple', 'Bannana', 100, 40, 50, 2, 22, 83, 78]\n"
     ]
    }
   ],
   "source": [
    "list1 = [\"Orange\",\"Mango\",\"kiwi\",\"Pineapple\",\"Bannana\"]\n",
    "list2 = [100,40,50,2,22,83,78]\n",
    "list1.extend(list2)\n",
    "print(list1)"
   ]
  },
  {
   "cell_type": "code",
   "execution_count": 10,
   "metadata": {},
   "outputs": [
    {
     "name": "stdout",
     "output_type": "stream",
     "text": [
      "['Apple', 'Custardapple', 'mango', 5, 10, 15, 2, 100, 1000]\n"
     ]
    }
   ],
   "source": [
    "list1 = [\"Apple\",\"Custardapple\",\"mango\"]\n",
    "list2 = [5,10,15,2,100,1000]\n",
    "list1.extend(list2)\n",
    "print(list1)"
   ]
  },
  {
   "cell_type": "code",
   "execution_count": 11,
   "metadata": {},
   "outputs": [
    {
     "name": "stdout",
     "output_type": "stream",
     "text": [
      "['Orange', 'Mango', 'kiwi', 'Pineapple', 'Bannana']\n"
     ]
    }
   ],
   "source": [
    "list1 = [\"Orange\",\"Mango\",\"kiwi\",\"Pineapple\",\"Bannana\"]\n",
    "print(list1)"
   ]
  },
  {
   "cell_type": "markdown",
   "metadata": {},
   "source": [
    "tuples are basically used to store multiple items in a single variable\n",
    "eg: mytuple= (\"Apple\",\"Banana\",\"Cherry\")\n",
    "we can change in list but tuple would be unchangeable\n"
   ]
  },
  {
   "cell_type": "code",
   "execution_count": 12,
   "metadata": {},
   "outputs": [
    {
     "name": "stdout",
     "output_type": "stream",
     "text": [
      "('Apple', 'Banana', 'Cherry')\n"
     ]
    }
   ],
   "source": [
    "thisistuple = (\"Apple\",\"Banana\",\"Cherry\")\n",
    "print(thisistuple)"
   ]
  },
  {
   "cell_type": "code",
   "execution_count": 13,
   "metadata": {},
   "outputs": [
    {
     "name": "stdout",
     "output_type": "stream",
     "text": [
      "('Apple', 'Banana', 'Cherry', 'Apple', 'Banana', 'Cherry')\n"
     ]
    }
   ],
   "source": [
    "thisistuple = (\"Apple\",\"Banana\",\"Cherry\",\"Apple\",\"Banana\",\"Cherry\")\n",
    "print(thisistuple)"
   ]
  },
  {
   "cell_type": "code",
   "execution_count": 14,
   "metadata": {},
   "outputs": [
    {
     "name": "stdout",
     "output_type": "stream",
     "text": [
      "6\n"
     ]
    }
   ],
   "source": [
    "thisistuple = (\"Apple\",\"Banana\",\"Cherry\",\"Apple\",\"Banana\",\"Cherry\")\n",
    "print(len(thisistuple))"
   ]
  },
  {
   "cell_type": "code",
   "execution_count": 16,
   "metadata": {},
   "outputs": [],
   "source": [
    "tuple1 = (\"Orange\",\"Mango\",\"kiwi\",\"Pineapple\",\"Bannana\")\n",
    "tuple2 = (100,40,50,2,22,83,78)\n",
    "tuple3 = (True, False, False)"
   ]
  },
  {
   "cell_type": "code",
   "execution_count": 17,
   "metadata": {},
   "outputs": [
    {
     "data": {
      "text/plain": [
       "('Orange', 'Mango', 'kiwi', 'Pineapple', 'Bannana')"
      ]
     },
     "execution_count": 17,
     "metadata": {},
     "output_type": "execute_result"
    }
   ],
   "source": [
    "tuple1"
   ]
  },
  {
   "cell_type": "code",
   "execution_count": 18,
   "metadata": {},
   "outputs": [
    {
     "data": {
      "text/plain": [
       "(100, 40, 50, 2, 22, 83, 78)"
      ]
     },
     "execution_count": 18,
     "metadata": {},
     "output_type": "execute_result"
    }
   ],
   "source": [
    "tuple2"
   ]
  },
  {
   "cell_type": "code",
   "execution_count": 19,
   "metadata": {},
   "outputs": [
    {
     "data": {
      "text/plain": [
       "(True, False, False)"
      ]
     },
     "execution_count": 19,
     "metadata": {},
     "output_type": "execute_result"
    }
   ],
   "source": [
    "tuple3"
   ]
  },
  {
   "cell_type": "code",
   "execution_count": 20,
   "metadata": {},
   "outputs": [
    {
     "name": "stdout",
     "output_type": "stream",
     "text": [
      "('Orange', 'Mango', 'kiwi', 'Pineapple', 'Bannana')\n",
      "(100, 40, 50, 2, 22, 83, 78)\n",
      "(True, False, False)\n"
     ]
    }
   ],
   "source": [
    "tuple1 = (\"Orange\",\"Mango\",\"kiwi\",\"Pineapple\",\"Bannana\")\n",
    "tuple2 = (100,40,50,2,22,83,78)\n",
    "tuple3 = (True, False, False)\n",
    "print(tuple1)\n",
    "print(tuple2)\n",
    "print(tuple3)"
   ]
  },
  {
   "cell_type": "code",
   "execution_count": 22,
   "metadata": {},
   "outputs": [
    {
     "name": "stdout",
     "output_type": "stream",
     "text": [
      "('Orange', 23, 'Pineapple', 'Banana', True, '34')\n",
      "<class 'tuple'>\n"
     ]
    }
   ],
   "source": [
    "tuple1 = (\"Orange\", 23, \"Pineapple\", \"Banana\", True, \"34\")\n",
    "print(tuple1)\n",
    "print(type(tuple1))"
   ]
  },
  {
   "cell_type": "code",
   "execution_count": 23,
   "metadata": {},
   "outputs": [
    {
     "name": "stdout",
     "output_type": "stream",
     "text": [
      "23\n"
     ]
    }
   ],
   "source": [
    "tuple1 = (\"Orange\", 23, \"Pineapple\", \"Banana\", True, \"34\")\n",
    "print(tuple1[1])"
   ]
  },
  {
   "cell_type": "code",
   "execution_count": 24,
   "metadata": {},
   "outputs": [
    {
     "name": "stdout",
     "output_type": "stream",
     "text": [
      "Orange\n"
     ]
    }
   ],
   "source": [
    "tuple1 = (\"Orange\", 23, \"Pineapple\", \"Banana\", True, \"34\")\n",
    "print(tuple1[0])"
   ]
  },
  {
   "cell_type": "code",
   "execution_count": 25,
   "metadata": {},
   "outputs": [
    {
     "name": "stdout",
     "output_type": "stream",
     "text": [
      "Banana\n"
     ]
    }
   ],
   "source": [
    "tuple1 = (\"Orange\", 23, \"Pineapple\", \"Banana\", True, \"34\")\n",
    "print(tuple1[3])"
   ]
  },
  {
   "cell_type": "code",
   "execution_count": 26,
   "metadata": {},
   "outputs": [
    {
     "name": "stdout",
     "output_type": "stream",
     "text": [
      "Banana\n"
     ]
    }
   ],
   "source": [
    "tuple1 = (\"Orange\", 23, \"Pineapple\", \"Banana\", True, \"34\")\n",
    "print(tuple1[-3])"
   ]
  },
  {
   "cell_type": "code",
   "execution_count": 27,
   "metadata": {},
   "outputs": [
    {
     "name": "stdout",
     "output_type": "stream",
     "text": [
      "True\n"
     ]
    }
   ],
   "source": [
    "tuple1 = (\"Orange\", 23, \"Pineapple\", \"Banana\", True, \"34\")\n",
    "print(tuple1[-2])"
   ]
  },
  {
   "cell_type": "code",
   "execution_count": 28,
   "metadata": {},
   "outputs": [
    {
     "name": "stdout",
     "output_type": "stream",
     "text": [
      "Pineapple\n"
     ]
    }
   ],
   "source": [
    "tuple1 = (\"Orange\", 23, \"Pineapple\", \"Banana\", True, \"34\")\n",
    "print(tuple1[2])"
   ]
  },
  {
   "cell_type": "code",
   "execution_count": 29,
   "metadata": {},
   "outputs": [
    {
     "name": "stdout",
     "output_type": "stream",
     "text": [
      "('Orange', 23, 'Pineapple', 'Banana')\n"
     ]
    }
   ],
   "source": [
    "tuple1 = (\"Orange\", 23, \"Pineapple\", \"Banana\", True, \"34\")\n",
    "print(tuple1[:4])"
   ]
  },
  {
   "cell_type": "code",
   "execution_count": 31,
   "metadata": {},
   "outputs": [
    {
     "name": "stdout",
     "output_type": "stream",
     "text": [
      "('Pineapple', 'Banana')\n"
     ]
    }
   ],
   "source": [
    "tuple1 = (\"Orange\", 23, \"Pineapple\", \"Banana\", True, \"34\")\n",
    "print(tuple1[2:4])"
   ]
  },
  {
   "cell_type": "code",
   "execution_count": 32,
   "metadata": {},
   "outputs": [
    {
     "name": "stdout",
     "output_type": "stream",
     "text": [
      "('Pineapple', 'Banana', True, '34')\n"
     ]
    }
   ],
   "source": [
    "tuple1 = (\"Orange\", 23, \"Pineapple\", \"Banana\", True, \"34\")\n",
    "print(tuple1[2:])"
   ]
  },
  {
   "cell_type": "code",
   "execution_count": 33,
   "metadata": {},
   "outputs": [
    {
     "name": "stdout",
     "output_type": "stream",
     "text": [
      "('Pineapple', 'Banana', True)\n"
     ]
    }
   ],
   "source": [
    "tuple1 = (\"Orange\", 23, \"Pineapple\", \"Banana\", True, \"34\")\n",
    "print(tuple1[-4:-1])"
   ]
  },
  {
   "cell_type": "code",
   "execution_count": 34,
   "metadata": {},
   "outputs": [
    {
     "name": "stdout",
     "output_type": "stream",
     "text": [
      "()\n"
     ]
    }
   ],
   "source": [
    "tuple1 = (\"Orange\", 23, \"Pineapple\", \"Banana\", True, \"34\")\n",
    "print(tuple1[-1:-4])"
   ]
  },
  {
   "cell_type": "code",
   "execution_count": 35,
   "metadata": {},
   "outputs": [
    {
     "name": "stdout",
     "output_type": "stream",
     "text": [
      "('Pineapple', 'Banana', True, '34')\n"
     ]
    }
   ],
   "source": [
    "tuple1 = (\"Orange\", 23, \"Pineapple\", \"Banana\", True, \"34\")\n",
    "print(tuple1[-4:])"
   ]
  },
  {
   "cell_type": "code",
   "execution_count": 36,
   "metadata": {},
   "outputs": [
    {
     "name": "stdout",
     "output_type": "stream",
     "text": [
      "('Orange', 23)\n"
     ]
    }
   ],
   "source": [
    "tuple1 = (\"Orange\", 23, \"Pineapple\", \"Banana\", True, \"34\")\n",
    "print(tuple1[:-4])"
   ]
  },
  {
   "cell_type": "markdown",
   "metadata": {},
   "source": [
    "# converting tuple to list\n"
   ]
  },
  {
   "cell_type": "code",
   "execution_count": 37,
   "metadata": {},
   "outputs": [
    {
     "name": "stdout",
     "output_type": "stream",
     "text": [
      "('Apple', 'kiwi', 'Cherry')\n"
     ]
    }
   ],
   "source": [
    "x = (\"Apple\",\"Banana\",\"Cherry\")\n",
    "y = list(x)\n",
    "y[1] = \"kiwi\"\n",
    "x = tuple(y)\n",
    "print(x)"
   ]
  },
  {
   "cell_type": "code",
   "execution_count": 38,
   "metadata": {},
   "outputs": [],
   "source": [
    "x = (\"Apple\",\"Banana\",\"Cherry\")\n",
    "y = list(x)"
   ]
  },
  {
   "cell_type": "code",
   "execution_count": 39,
   "metadata": {},
   "outputs": [
    {
     "data": {
      "text/plain": [
       "['Apple', 'Banana', 'Cherry']"
      ]
     },
     "execution_count": 39,
     "metadata": {},
     "output_type": "execute_result"
    }
   ],
   "source": [
    "y"
   ]
  },
  {
   "cell_type": "code",
   "execution_count": 43,
   "metadata": {},
   "outputs": [
    {
     "name": "stdout",
     "output_type": "stream",
     "text": [
      "('Apple', 'Banana', 'Cherry', 'Orange')\n"
     ]
    }
   ],
   "source": [
    "x = (\"Apple\",\"Banana\",\"Cherry\")\n",
    "y = list(x)\n",
    "y.append(\"Orange\")\n",
    "thisistuple = tuple(y)\n",
    "print(thisistuple)"
   ]
  },
  {
   "cell_type": "code",
   "execution_count": 45,
   "metadata": {},
   "outputs": [
    {
     "name": "stdout",
     "output_type": "stream",
     "text": [
      "('Apple', 'Banana', 'Cherry', 'Berry')\n"
     ]
    }
   ],
   "source": [
    "x = (\"Apple\",\"Banana\",\"Cherry\")\n",
    "y = list(x)\n",
    "y.append(\"Berry\")\n",
    "thisistuple = tuple(y)\n",
    "print(thisistuple)"
   ]
  },
  {
   "cell_type": "code",
   "execution_count": 46,
   "metadata": {},
   "outputs": [
    {
     "name": "stdout",
     "output_type": "stream",
     "text": [
      "('Apple', 'Banana', 'Cherry')\n"
     ]
    }
   ],
   "source": [
    "x = (\"Apple\",\"Banana\",\"Cherry\",\"Orange\")\n",
    "y = list(x)\n",
    "y.remove(\"Orange\")\n",
    "thisistuple = tuple(y)\n",
    "print(thisistuple)"
   ]
  },
  {
   "cell_type": "code",
   "execution_count": 47,
   "metadata": {},
   "outputs": [
    {
     "name": "stdout",
     "output_type": "stream",
     "text": [
      "('Apple', 'Cherry', 'Orange')\n"
     ]
    }
   ],
   "source": [
    "x = (\"Apple\",\"Banana\",\"Cherry\",\"Orange\")\n",
    "y = list(x)\n",
    "y.remove(\"Banana\")\n",
    "thisistuple = tuple(y)\n",
    "print(thisistuple)"
   ]
  },
  {
   "cell_type": "code",
   "execution_count": 48,
   "metadata": {},
   "outputs": [
    {
     "name": "stdout",
     "output_type": "stream",
     "text": [
      "('Banana', 'Cherry', 'Orange')\n"
     ]
    }
   ],
   "source": [
    "x = (\"Apple\",\"Banana\",\"Cherry\",\"Orange\")\n",
    "y = list(x)\n",
    "y.remove(\"Apple\")\n",
    "thisistuple = tuple(y)\n",
    "print(thisistuple)"
   ]
  },
  {
   "cell_type": "code",
   "execution_count": 50,
   "metadata": {},
   "outputs": [
    {
     "name": "stdout",
     "output_type": "stream",
     "text": [
      "('Apple', 'Banana', 'Orange')\n"
     ]
    }
   ],
   "source": [
    "x = (\"Apple\",\"Banana\",\"Cherry\",\"Orange\")\n",
    "y = list(x)\n",
    "y.remove(\"Cherry\")\n",
    "thisistuple = tuple(y)\n",
    "print(thisistuple)"
   ]
  },
  {
   "cell_type": "code",
   "execution_count": 51,
   "metadata": {},
   "outputs": [
    {
     "name": "stdout",
     "output_type": "stream",
     "text": [
      "(100, 50, 2, 22, 83, 78)\n"
     ]
    }
   ],
   "source": [
    "x = (100,40,50,2,22,83,78)\n",
    "y = list(x)\n",
    "y.remove(40)\n",
    "thisistuple = tuple(y)\n",
    "print(thisistuple)"
   ]
  },
  {
   "cell_type": "code",
   "execution_count": 8,
   "metadata": {},
   "outputs": [
    {
     "name": "stdout",
     "output_type": "stream",
     "text": [
      "(100, 40, 50, 2, 22, 83)\n"
     ]
    }
   ],
   "source": [
    "x = (100,40,50,2,22,83,78)\n",
    "y = list(x)\n",
    "y.remove(78)\n",
    "thisistuple = tuple(y)\n",
    "print(thisistuple)"
   ]
  },
  {
   "cell_type": "markdown",
   "metadata": {},
   "source": [
    "# Unpacking in tuple"
   ]
  },
  {
   "cell_type": "code",
   "execution_count": 53,
   "metadata": {},
   "outputs": [],
   "source": [
    "thisistuple = (\"Apple\",\"Banana\",\"Cherry\",\"Orange\")"
   ]
  },
  {
   "cell_type": "code",
   "execution_count": 54,
   "metadata": {},
   "outputs": [
    {
     "data": {
      "text/plain": [
       "('Apple', 'Banana', 'Cherry', 'Orange')"
      ]
     },
     "execution_count": 54,
     "metadata": {},
     "output_type": "execute_result"
    }
   ],
   "source": [
    "thisistuple"
   ]
  },
  {
   "cell_type": "code",
   "execution_count": 57,
   "metadata": {},
   "outputs": [
    {
     "name": "stdout",
     "output_type": "stream",
     "text": [
      "Apple\n",
      "Banana\n",
      "Cherry\n"
     ]
    }
   ],
   "source": [
    "fruits = (\"Apple\",\"Banana\",\"Cherry\") \n",
    "(green, yellow, red) = fruits\n",
    "print(green)\n",
    "print(yellow)\n",
    "print(red)"
   ]
  },
  {
   "cell_type": "code",
   "execution_count": 58,
   "metadata": {},
   "outputs": [
    {
     "name": "stdout",
     "output_type": "stream",
     "text": [
      "100\n",
      "40\n",
      "20\n"
     ]
    }
   ],
   "source": [
    "fruits = (100,40,20) \n",
    "(green, yellow, red) = fruits\n",
    "print(green)\n",
    "print(yellow)\n",
    "print(red)"
   ]
  },
  {
   "cell_type": "code",
   "execution_count": 63,
   "metadata": {},
   "outputs": [
    {
     "name": "stdout",
     "output_type": "stream",
     "text": [
      "Apple\n",
      "Banana\n",
      "Banana\n",
      "Cherry\n"
     ]
    }
   ],
   "source": [
    "fruits = (\"Apple\",\"Banana\",\"Cherry\",\"Apple\",\"Banana\",\"Cherry\") \n",
    "(green, yellow, purple, orange, red, pink) = fruits\n",
    "print(green)\n",
    "print(yellow)\n",
    "print(red)\n",
    "print(pink)"
   ]
  },
  {
   "cell_type": "code",
   "execution_count": 65,
   "metadata": {},
   "outputs": [
    {
     "name": "stdout",
     "output_type": "stream",
     "text": [
      "Apple\n",
      "Banana\n",
      "['Cherry', 'Mango', 'Orange']\n"
     ]
    }
   ],
   "source": [
    "fruits = (\"Apple\",\"Banana\",\"Cherry\",\"Mango\",\"Orange\") \n",
    "(green, yellow, *red) = fruits\n",
    "print(green)\n",
    "print(yellow)\n",
    "print(red)"
   ]
  },
  {
   "cell_type": "code",
   "execution_count": 66,
   "metadata": {},
   "outputs": [
    {
     "name": "stdout",
     "output_type": "stream",
     "text": [
      "Apple\n",
      "['Banana', 'Cherry', 'Mango']\n",
      "Orange\n"
     ]
    }
   ],
   "source": [
    "fruits = (\"Apple\",\"Banana\",\"Cherry\",\"Mango\",\"Orange\") \n",
    "(green, *yellow, red) = fruits\n",
    "print(green)\n",
    "print(yellow)\n",
    "print(red)"
   ]
  },
  {
   "cell_type": "code",
   "execution_count": 67,
   "metadata": {},
   "outputs": [
    {
     "name": "stdout",
     "output_type": "stream",
     "text": [
      "Apple\n",
      "Banana\n",
      "Cherry\n",
      "Mango\n",
      "Orange\n"
     ]
    }
   ],
   "source": [
    "fruits = (\"Apple\",\"Banana\",\"Cherry\",\"Mango\",\"Orange\") \n",
    "for x in fruits:\n",
    "    print(x)"
   ]
  },
  {
   "cell_type": "code",
   "execution_count": 71,
   "metadata": {},
   "outputs": [
    {
     "name": "stdout",
     "output_type": "stream",
     "text": [
      "Apple\n",
      "Banana\n",
      "Cherry\n",
      "Mango\n",
      "Orange\n"
     ]
    }
   ],
   "source": [
    "fruits = (\"Apple\",\"Banana\",\"Cherry\",\"Mango\",\"Orange\") \n",
    "for i in range (len(fruits)):\n",
    "    print(fruits[i])"
   ]
  },
  {
   "cell_type": "code",
   "execution_count": null,
   "metadata": {},
   "outputs": [],
   "source": []
  }
 ],
 "metadata": {
  "kernelspec": {
   "display_name": "Python 3",
   "language": "python",
   "name": "python3"
  },
  "language_info": {
   "codemirror_mode": {
    "name": "ipython",
    "version": 3
   },
   "file_extension": ".py",
   "mimetype": "text/x-python",
   "name": "python",
   "nbconvert_exporter": "python",
   "pygments_lexer": "ipython3",
   "version": "3.8.3"
  }
 },
 "nbformat": 4,
 "nbformat_minor": 4
}
