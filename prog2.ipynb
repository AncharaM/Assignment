{
 "cells": [
  {
   "cell_type": "markdown",
   "metadata": {
    "id": "_nh4oF_c0pZ0"
   },
   "source": [
    "# python begineers tutorial "
   ]
  },
  {
   "cell_type": "markdown",
   "metadata": {
    "id": "SmMDa77S05_p"
   },
   "source": [
    "let us start with simple programs of defining variable"
   ]
  },
  {
   "cell_type": "markdown",
   "metadata": {
    "id": "ddeXkUk-1NzE"
   },
   "source": [
    "variable is defined as the containers or buffer or memory space which hold or store information in the form of text or number"
   ]
  },
  {
   "cell_type": "code",
   "execution_count": 2,
   "metadata": {
    "colab": {
     "base_uri": "https://localhost:8080/"
    },
    "id": "QPe2B5D91w94",
    "outputId": "707275c7-9705-435e-e3c4-c2fb7e50f756"
   },
   "outputs": [
    {
     "name": "stdout",
     "output_type": "stream",
     "text": [
      "14\n"
     ]
    }
   ],
   "source": [
    "# storing a number\n",
    "a = 14\n",
    "print(a)"
   ]
  },
  {
   "cell_type": "code",
   "execution_count": 3,
   "metadata": {
    "colab": {
     "base_uri": "https://localhost:8080/"
    },
    "id": "qYL5pzxGPNyf",
    "outputId": "020979c2-c7d0-4dc2-f59a-b83195abdf19"
   },
   "outputs": [
    {
     "name": "stdout",
     "output_type": "stream",
     "text": [
      "144\n"
     ]
    }
   ],
   "source": [
    "# storing a number\n",
    "a = 144\n",
    "print(a)"
   ]
  },
  {
   "cell_type": "code",
   "execution_count": 4,
   "metadata": {
    "colab": {
     "base_uri": "https://localhost:8080/"
    },
    "id": "wh4nKpR9PdpE",
    "outputId": "c7282c1e-846f-495b-ed41-28050feb13f2"
   },
   "outputs": [
    {
     "name": "stdout",
     "output_type": "stream",
     "text": [
      "144\n"
     ]
    }
   ],
   "source": [
    "# storing a number\n",
    "b = 144\n",
    "print(b)"
   ]
  },
  {
   "cell_type": "code",
   "execution_count": 5,
   "metadata": {
    "colab": {
     "base_uri": "https://localhost:8080/"
    },
    "id": "91gCm4-3Pi4G",
    "outputId": "3097f754-c471-4607-fe5d-a52e66149e8c"
   },
   "outputs": [
    {
     "name": "stdout",
     "output_type": "stream",
     "text": [
      "288\n"
     ]
    }
   ],
   "source": [
    "c=a+b\n",
    "print(c)"
   ]
  },
  {
   "cell_type": "code",
   "execution_count": 6,
   "metadata": {
    "colab": {
     "base_uri": "https://localhost:8080/"
    },
    "id": "K0IQH1KdQHlk",
    "outputId": "c7753475-c2bc-4365-c45c-13721114ad64"
   },
   "outputs": [
    {
     "data": {
      "text/plain": [
       "144"
      ]
     },
     "execution_count": 6,
     "metadata": {},
     "output_type": "execute_result"
    }
   ],
   "source": [
    "a"
   ]
  },
  {
   "cell_type": "code",
   "execution_count": 7,
   "metadata": {
    "colab": {
     "base_uri": "https://localhost:8080/"
    },
    "id": "9N1wAznfQLzg",
    "outputId": "9c4598ac-f7ad-499e-8d44-740e67833b6a"
   },
   "outputs": [
    {
     "data": {
      "text/plain": [
       "144"
      ]
     },
     "execution_count": 7,
     "metadata": {},
     "output_type": "execute_result"
    }
   ],
   "source": [
    "b"
   ]
  },
  {
   "cell_type": "code",
   "execution_count": 8,
   "metadata": {
    "colab": {
     "base_uri": "https://localhost:8080/"
    },
    "id": "4rK_evxOQNBM",
    "outputId": "8667f347-d7ff-4afe-b2bc-0c0002195e56"
   },
   "outputs": [
    {
     "data": {
      "text/plain": [
       "288"
      ]
     },
     "execution_count": 8,
     "metadata": {},
     "output_type": "execute_result"
    }
   ],
   "source": [
    "c"
   ]
  },
  {
   "cell_type": "code",
   "execution_count": 9,
   "metadata": {
    "colab": {
     "base_uri": "https://localhost:8080/"
    },
    "id": "opDjaa9fQTex",
    "outputId": "b0184b85-5123-4031-d0ae-ff7743a41e8a"
   },
   "outputs": [
    {
     "name": "stdout",
     "output_type": "stream",
     "text": [
      "This is our introductory class to google colab\n"
     ]
    }
   ],
   "source": [
    "# text\n",
    "d = \"This is our introductory class to google colab\"\n",
    "print(d)"
   ]
  },
  {
   "cell_type": "code",
   "execution_count": 10,
   "metadata": {
    "colab": {
     "base_uri": "https://localhost:8080/",
     "height": 35
    },
    "id": "8Ki5KwTrQmxz",
    "outputId": "8ff3bff0-b4b5-49c3-c39a-d103e19e90c2"
   },
   "outputs": [
    {
     "data": {
      "text/plain": [
       "'This is our introductory class to google colab'"
      ]
     },
     "execution_count": 10,
     "metadata": {},
     "output_type": "execute_result"
    }
   ],
   "source": [
    "d"
   ]
  },
  {
   "cell_type": "markdown",
   "metadata": {
    "id": "JjuA8JFIQ8E0"
   },
   "source": [
    "what can we do with these variables?"
   ]
  },
  {
   "cell_type": "code",
   "execution_count": 11,
   "metadata": {
    "colab": {
     "base_uri": "https://localhost:8080/"
    },
    "id": "q8DNTl74RYUB",
    "outputId": "ca5bbca7-97e6-487b-a109-5d07c75eed21"
   },
   "outputs": [
    {
     "name": "stdout",
     "output_type": "stream",
     "text": [
      "37\n"
     ]
    }
   ],
   "source": [
    "a = 3\n",
    "b = 34\n",
    "d = a+b\n",
    "print(d)"
   ]
  },
  {
   "cell_type": "code",
   "execution_count": 12,
   "metadata": {
    "colab": {
     "base_uri": "https://localhost:8080/"
    },
    "id": "gdFwwGJzSlkY",
    "outputId": "e31dea6f-c90e-4032-ec21-22e0f8bfcb72"
   },
   "outputs": [
    {
     "data": {
      "text/plain": [
       "288"
      ]
     },
     "execution_count": 12,
     "metadata": {},
     "output_type": "execute_result"
    }
   ],
   "source": [
    "c"
   ]
  },
  {
   "cell_type": "code",
   "execution_count": 13,
   "metadata": {
    "colab": {
     "base_uri": "https://localhost:8080/"
    },
    "id": "IaKG64jASopv",
    "outputId": "2f5fb552-8e36-4333-e6b4-bba4627e7800"
   },
   "outputs": [
    {
     "name": "stdout",
     "output_type": "stream",
     "text": [
      "325\n"
     ]
    }
   ],
   "source": [
    "print(d+c)"
   ]
  },
  {
   "cell_type": "code",
   "execution_count": 14,
   "metadata": {
    "colab": {
     "base_uri": "https://localhost:8080/"
    },
    "id": "P22mEcyJVWcb",
    "outputId": "261b4374-01dd-430b-afca-54a879bfa0d7"
   },
   "outputs": [
    {
     "name": "stdout",
     "output_type": "stream",
     "text": [
      "47\n"
     ]
    }
   ],
   "source": [
    "a = 4\n",
    "b = 43\n",
    "d = a+b\n",
    "print(d)"
   ]
  },
  {
   "cell_type": "code",
   "execution_count": 15,
   "metadata": {
    "colab": {
     "base_uri": "https://localhost:8080/"
    },
    "id": "_CE-zui7WObk",
    "outputId": "8b82d963-106e-4976-ba25-4338e157cef8"
   },
   "outputs": [
    {
     "name": "stdout",
     "output_type": "stream",
     "text": [
      "69\n"
     ]
    }
   ],
   "source": [
    "a = 5\n",
    "b = 64\n",
    "d = a+b\n",
    "print(d)"
   ]
  },
  {
   "cell_type": "code",
   "execution_count": 16,
   "metadata": {
    "colab": {
     "base_uri": "https://localhost:8080/"
    },
    "id": "BMxEnTncWSPx",
    "outputId": "efe865d6-680e-4053-dd9e-47c0c72a09b0"
   },
   "outputs": [
    {
     "name": "stdout",
     "output_type": "stream",
     "text": [
      "46\n"
     ]
    }
   ],
   "source": [
    "a = 8\n",
    "b = 38\n",
    "d = a+b\n",
    "print(d)"
   ]
  },
  {
   "cell_type": "code",
   "execution_count": 17,
   "metadata": {
    "id": "b4fn_XMHWVcL"
   },
   "outputs": [],
   "source": [
    "# How to change variable values and equate or copy variable"
   ]
  },
  {
   "cell_type": "code",
   "execution_count": 18,
   "metadata": {
    "colab": {
     "base_uri": "https://localhost:8080/"
    },
    "id": "HvLEu3lRW0yv",
    "outputId": "d7dd9860-54e1-424c-e0f0-56fd19fe8ce4"
   },
   "outputs": [
    {
     "name": "stdout",
     "output_type": "stream",
     "text": [
      "18\n"
     ]
    }
   ],
   "source": [
    "a = 18\n",
    "print(a)"
   ]
  },
  {
   "cell_type": "code",
   "execution_count": 19,
   "metadata": {
    "colab": {
     "base_uri": "https://localhost:8080/"
    },
    "id": "IbDp3zdAW2-i",
    "outputId": "3bafd7f0-0772-45fb-b99e-d599e6218177"
   },
   "outputs": [
    {
     "name": "stdout",
     "output_type": "stream",
     "text": [
      "18\n"
     ]
    }
   ],
   "source": [
    "e=a\n",
    "print(e)"
   ]
  },
  {
   "cell_type": "code",
   "execution_count": 20,
   "metadata": {
    "colab": {
     "base_uri": "https://localhost:8080/"
    },
    "id": "45JdPZfbXHly",
    "outputId": "1554df82-30ae-4514-bf7f-02f885c38c1a"
   },
   "outputs": [
    {
     "name": "stdout",
     "output_type": "stream",
     "text": [
      "1\n",
      "<class 'int'>\n"
     ]
    }
   ],
   "source": [
    "# types of variables\n",
    "# integer variable\n",
    "a=1\n",
    "print(a)\n",
    "print(type(a))"
   ]
  },
  {
   "cell_type": "code",
   "execution_count": 21,
   "metadata": {
    "colab": {
     "base_uri": "https://localhost:8080/"
    },
    "id": "a8dz5yQJXf9h",
    "outputId": "45ab15c1-fa17-4485-979a-45d26d12f019"
   },
   "outputs": [
    {
     "name": "stdout",
     "output_type": "stream",
     "text": [
      "5.578\n",
      "<class 'float'>\n"
     ]
    }
   ],
   "source": [
    "# types of variables\n",
    "# floating type variable\n",
    "a=5.578\n",
    "print(a)\n",
    "print(type(a))"
   ]
  },
  {
   "cell_type": "code",
   "execution_count": 22,
   "metadata": {
    "colab": {
     "base_uri": "https://localhost:8080/"
    },
    "id": "3H4-Dx0uX3nP",
    "outputId": "b39a4c0b-f605-43ec-f319-2a46f2cbad5b"
   },
   "outputs": [
    {
     "name": "stdout",
     "output_type": "stream",
     "text": [
      "-1\n",
      "<class 'int'>\n"
     ]
    }
   ],
   "source": [
    "# types of variables\n",
    "# integer variable\n",
    "a=-1\n",
    "print(a)\n",
    "print(type(a))"
   ]
  },
  {
   "cell_type": "code",
   "execution_count": 23,
   "metadata": {
    "colab": {
     "base_uri": "https://localhost:8080/"
    },
    "id": "TImYi8d5YA3k",
    "outputId": "eae2b112-1cc9-4dcf-fe1c-2c6174311ac1"
   },
   "outputs": [
    {
     "name": "stdout",
     "output_type": "stream",
     "text": [
      "-5\n",
      "<class 'int'>\n"
     ]
    }
   ],
   "source": [
    "# types of variables\n",
    "# integer variable\n",
    "a=-5\n",
    "print(a)\n",
    "print(type(a))"
   ]
  },
  {
   "cell_type": "code",
   "execution_count": 24,
   "metadata": {
    "colab": {
     "base_uri": "https://localhost:8080/"
    },
    "id": "zsNrU-nWYDNx",
    "outputId": "d428201d-5e82-4deb-cfc7-60d5693618ef"
   },
   "outputs": [
    {
     "name": "stdout",
     "output_type": "stream",
     "text": [
      "9.8\n",
      "<class 'float'>\n"
     ]
    }
   ],
   "source": [
    "# types of variables\n",
    "# floating type variable\n",
    "a=9.8\n",
    "print(a)\n",
    "print(type(a))"
   ]
  },
  {
   "cell_type": "code",
   "execution_count": 25,
   "metadata": {
    "colab": {
     "base_uri": "https://localhost:8080/"
    },
    "id": "ksrat9BoYTux",
    "outputId": "7e66920c-40f0-4f36-db18-cc29421f4e9c"
   },
   "outputs": [
    {
     "name": "stdout",
     "output_type": "stream",
     "text": [
      "-8.9\n",
      "<class 'float'>\n"
     ]
    }
   ],
   "source": [
    "# types of variables\n",
    "# floating type variable\n",
    "a=-8.9\n",
    "print(a)\n",
    "print(type(a))"
   ]
  },
  {
   "cell_type": "code",
   "execution_count": 26,
   "metadata": {
    "colab": {
     "base_uri": "https://localhost:8080/"
    },
    "id": "5d3aii9ZYYME",
    "outputId": "c6317278-e97d-418b-b9d2-04bceb4b78a8"
   },
   "outputs": [
    {
     "name": "stdout",
     "output_type": "stream",
     "text": [
      "True\n",
      "<class 'bool'>\n"
     ]
    }
   ],
   "source": [
    "# types of variables\n",
    "# Boolean variable ---- True or False\n",
    "a=True\n",
    "print(a)\n",
    "print(type(a))"
   ]
  },
  {
   "cell_type": "code",
   "execution_count": 27,
   "metadata": {
    "colab": {
     "base_uri": "https://localhost:8080/"
    },
    "id": "EKY5fo2lY0t5",
    "outputId": "8428220d-67f9-46d4-df90-ef5caeb0dae3"
   },
   "outputs": [
    {
     "name": "stdout",
     "output_type": "stream",
     "text": [
      "5\n",
      "<class 'str'>\n"
     ]
    }
   ],
   "source": [
    "# types of variables\n",
    "# string variable\n",
    "a=\"5\"\n",
    "print(a)\n",
    "print(type(a))"
   ]
  },
  {
   "cell_type": "code",
   "execution_count": 28,
   "metadata": {
    "colab": {
     "base_uri": "https://localhost:8080/"
    },
    "id": "C75hAMwIY9Oo",
    "outputId": "f5836a2b-5d7f-4fa9-df87-5d30318da60f"
   },
   "outputs": [
    {
     "name": "stdout",
     "output_type": "stream",
     "text": [
      "10102020\n",
      "<class 'str'>\n"
     ]
    }
   ],
   "source": [
    "# types of variables\n",
    "# concatenate string\n",
    "date = \"10\"\n",
    "month = \"10\"\n",
    "year = \"2020\"\n",
    "a = date+month+year\n",
    "print(a)\n",
    "print(type(a))"
   ]
  },
  {
   "cell_type": "markdown",
   "metadata": {
    "id": "xI4tHiEFZlGf"
   },
   "source": [
    " *Array or List Variable* Array or List Variable are containers which extremely used in programming with compartment stores another variable"
   ]
  },
  {
   "cell_type": "code",
   "execution_count": 29,
   "metadata": {
    "colab": {
     "base_uri": "https://localhost:8080/"
    },
    "id": "niYwWS7haV13",
    "outputId": "abcc7cae-5bcc-4a7f-b0d7-0cb41ce8b316"
   },
   "outputs": [
    {
     "name": "stdout",
     "output_type": "stream",
     "text": [
      "[1, 2, 3]\n"
     ]
    }
   ],
   "source": [
    "# Array or List Variable\n",
    "a = [1,2,3]\n",
    "print(a)"
   ]
  },
  {
   "cell_type": "code",
   "execution_count": 30,
   "metadata": {
    "colab": {
     "base_uri": "https://localhost:8080/"
    },
    "id": "WHvHzB7BbCTS",
    "outputId": "ed7ed3a4-ca7d-433c-a0d7-b3d60aad6736"
   },
   "outputs": [
    {
     "name": "stdout",
     "output_type": "stream",
     "text": [
      "[1, 2, 3]\n"
     ]
    }
   ],
   "source": [
    "# Array or List Variable\n",
    "b = [1,2,3]\n",
    "print(b)"
   ]
  },
  {
   "cell_type": "code",
   "execution_count": 31,
   "metadata": {
    "colab": {
     "base_uri": "https://localhost:8080/"
    },
    "id": "YEX_O59VbPpX",
    "outputId": "d53546a9-abd0-42e6-ff89-dd45b79c4243"
   },
   "outputs": [
    {
     "name": "stdout",
     "output_type": "stream",
     "text": [
      "[1, 2, 3, 'Text', 'Variables']\n"
     ]
    }
   ],
   "source": [
    "# Array or List Variable\n",
    "c = [1,2,3,\"Text\",\"Variables\"]\n",
    "print(c)"
   ]
  },
  {
   "cell_type": "code",
   "execution_count": 32,
   "metadata": {
    "colab": {
     "base_uri": "https://localhost:8080/"
    },
    "id": "YM7ml3N7bj71",
    "outputId": "cbaea117-773a-4a4d-87d0-69faa62b8087"
   },
   "outputs": [
    {
     "name": "stdout",
     "output_type": "stream",
     "text": [
      "Text\n"
     ]
    }
   ],
   "source": [
    "# Array or List Variable\n",
    "c = [1,2,3,\"Text\",\"Variables\"]\n",
    "print(c[3])"
   ]
  },
  {
   "cell_type": "code",
   "execution_count": 33,
   "metadata": {
    "colab": {
     "base_uri": "https://localhost:8080/"
    },
    "id": "RF5grm0lcJAG",
    "outputId": "98104e7e-c07e-400d-abc1-9c8ec3f95fa4"
   },
   "outputs": [
    {
     "name": "stdout",
     "output_type": "stream",
     "text": [
      "1\n"
     ]
    }
   ],
   "source": [
    "# Array or List Variable\n",
    "c = [1,2,3,\"Text\",\"Variables\"]\n",
    "print(c[0])"
   ]
  },
  {
   "cell_type": "code",
   "execution_count": 34,
   "metadata": {
    "colab": {
     "base_uri": "https://localhost:8080/"
    },
    "id": "EPg0KNkKcN0P",
    "outputId": "5a6959e7-14e5-4902-9ba6-410601c01a27"
   },
   "outputs": [
    {
     "name": "stdout",
     "output_type": "stream",
     "text": [
      "2\n"
     ]
    }
   ],
   "source": [
    "# Array or List Variable\n",
    "c = [1,2,3,\"Text\",\"Variables\"]\n",
    "print(c[1])"
   ]
  },
  {
   "cell_type": "code",
   "execution_count": 35,
   "metadata": {
    "colab": {
     "base_uri": "https://localhost:8080/"
    },
    "id": "wsavB-TvcRIA",
    "outputId": "b26dc9fc-a0f7-4ade-8445-244c6f8360c8"
   },
   "outputs": [
    {
     "name": "stdout",
     "output_type": "stream",
     "text": [
      "3\n"
     ]
    }
   ],
   "source": [
    "# Array or List Variable\n",
    "c = [1,2,3,\"Text\",\"Variables\"]\n",
    "print(c[2])"
   ]
  },
  {
   "cell_type": "code",
   "execution_count": 36,
   "metadata": {
    "colab": {
     "base_uri": "https://localhost:8080/"
    },
    "id": "TvAVhpy7cVMR",
    "outputId": "a8ad0ec4-d372-44cb-bb65-204bb2282c9a"
   },
   "outputs": [
    {
     "name": "stdout",
     "output_type": "stream",
     "text": [
      "Variables\n"
     ]
    }
   ],
   "source": [
    "# Array or List Variable\n",
    "c = [1,2,3,\"Text\",\"Variables\"]\n",
    "print(c[4])"
   ]
  },
  {
   "cell_type": "code",
   "execution_count": 37,
   "metadata": {
    "colab": {
     "base_uri": "https://localhost:8080/"
    },
    "id": "R3kiOn7Mcdei",
    "outputId": "3ade4802-6dad-47ee-d44a-593962f57c1d"
   },
   "outputs": [
    {
     "name": "stdout",
     "output_type": "stream",
     "text": [
      "1\n",
      "2\n",
      "3\n",
      "Text\n",
      "Variables\n"
     ]
    }
   ],
   "source": [
    "# Array or List Variable\n",
    "c = [1,2,3,\"Text\",\"Variables\"]\n",
    "print(c[0])\n",
    "print(c[1])\n",
    "print(c[2])\n",
    "print(c[3])\n",
    "print(c[4])"
   ]
  },
  {
   "cell_type": "code",
   "execution_count": 38,
   "metadata": {
    "colab": {
     "base_uri": "https://localhost:8080/"
    },
    "id": "Md_kJAuccuNe",
    "outputId": "7f5d78d1-a1b0-40f4-c817-558dda44b41f"
   },
   "outputs": [
    {
     "name": "stdout",
     "output_type": "stream",
     "text": [
      "[1, 2, 3, 'Text', 'Variables', 4]\n"
     ]
    }
   ],
   "source": [
    "c. append (4)\n",
    "print(c)"
   ]
  },
  {
   "cell_type": "code",
   "execution_count": 39,
   "metadata": {
    "colab": {
     "base_uri": "https://localhost:8080/"
    },
    "id": "NhA2mhiyc9sj",
    "outputId": "5233e4fd-0051-4c39-fdde-0df81536c640"
   },
   "outputs": [
    {
     "name": "stdout",
     "output_type": "stream",
     "text": [
      "6\n"
     ]
    }
   ],
   "source": [
    "print(len(c))"
   ]
  },
  {
   "cell_type": "code",
   "execution_count": 40,
   "metadata": {
    "colab": {
     "base_uri": "https://localhost:8080/"
    },
    "id": "CA_OH2uhdDsP",
    "outputId": "eabab574-3425-47d0-e8cf-794844067ef8"
   },
   "outputs": [
    {
     "name": "stdout",
     "output_type": "stream",
     "text": [
      "[1, 2, 3, 'Text', 5, 4]\n"
     ]
    }
   ],
   "source": [
    "c[4] = 5\n",
    "print(c)"
   ]
  },
  {
   "cell_type": "code",
   "execution_count": 41,
   "metadata": {
    "colab": {
     "base_uri": "https://localhost:8080/"
    },
    "id": "fV1IiLEHdOyl",
    "outputId": "e6a70d34-6790-4ba4-ae23-e4c113aa0495"
   },
   "outputs": [
    {
     "name": "stdout",
     "output_type": "stream",
     "text": [
      "All Elements of C Variable:  [1, 2, 3, 'Text', 5, 4]\n"
     ]
    }
   ],
   "source": [
    "print(\"All Elements of C Variable: \",c[:])"
   ]
  },
  {
   "cell_type": "code",
   "execution_count": 42,
   "metadata": {
    "colab": {
     "base_uri": "https://localhost:8080/"
    },
    "id": "nMHZ7_L8dw-u",
    "outputId": "b725938f-b9ba-4ea2-fb36-3748b4514593"
   },
   "outputs": [
    {
     "name": "stdout",
     "output_type": "stream",
     "text": [
      "All Elements of C Variable from 3rd position onward:  [3, 'Text', 5, 4]\n"
     ]
    }
   ],
   "source": [
    "print(\"All Elements of C Variable from 3rd position onward: \",c[2:])"
   ]
  },
  {
   "cell_type": "code",
   "execution_count": 43,
   "metadata": {
    "colab": {
     "base_uri": "https://localhost:8080/"
    },
    "id": "qoOvhWsBd_jd",
    "outputId": "e164d383-68bd-48ee-f1a2-f2a9eaef0ed5"
   },
   "outputs": [
    {
     "name": "stdout",
     "output_type": "stream",
     "text": [
      "All Elements of C Variable from 2nd to 4th position onward:  [2, 3]\n"
     ]
    }
   ],
   "source": [
    "print(\"All Elements of C Variable from 2nd to 4th position onward: \",c[1:3])"
   ]
  },
  {
   "cell_type": "code",
   "execution_count": 44,
   "metadata": {
    "colab": {
     "base_uri": "https://localhost:8080/"
    },
    "id": "wnzHoQSieLed",
    "outputId": "28eaeeeb-08ca-4467-d2f4-ca59dc93fe39"
   },
   "outputs": [
    {
     "name": "stdout",
     "output_type": "stream",
     "text": [
      "All Elements of C Variable from 3rd position onward:  [1, 2, 3, 'Text', 5]\n"
     ]
    }
   ],
   "source": [
    "print(\"All Elements of C Variable from 3rd position onward: \",c[:-1])"
   ]
  },
  {
   "cell_type": "markdown",
   "metadata": {
    "id": "5Y413rTB9de9"
   },
   "source": [
    "10 nov\n"
   ]
  },
  {
   "cell_type": "markdown",
   "metadata": {
    "id": "Zd9G9loh9k9G"
   },
   "source": [
    " **Dictionaries** are python objects that store paired data values"
   ]
  },
  {
   "cell_type": "code",
   "execution_count": 45,
   "metadata": {
    "colab": {
     "base_uri": "https://localhost:8080/"
    },
    "id": "qWTNmOCb9rsW",
    "outputId": "8c4cf4d2-a455-4731-cb27-bd1f841ef41c"
   },
   "outputs": [
    {
     "name": "stdout",
     "output_type": "stream",
     "text": [
      "{'name': 'India', 'capital': 'Delhi'}\n"
     ]
    }
   ],
   "source": [
    "# Creating a dictionary\n",
    "country_info = {\"name\": \"India\",\"capital\": \"Delhi\"}\n",
    "print(country_info)"
   ]
  },
  {
   "cell_type": "code",
   "execution_count": 46,
   "metadata": {
    "colab": {
     "base_uri": "https://localhost:8080/"
    },
    "id": "EbtWaKs4-b7S",
    "outputId": "46c16c0c-4c9c-4751-ec3c-760f7ec7ed72"
   },
   "outputs": [
    {
     "name": "stdout",
     "output_type": "stream",
     "text": [
      "India\n"
     ]
    }
   ],
   "source": [
    "country_info = {\"name\": \"India\",\"capital\": \"Delhi\"}\n",
    "print(country_info[\"name\"])"
   ]
  },
  {
   "cell_type": "code",
   "execution_count": 47,
   "metadata": {
    "colab": {
     "base_uri": "https://localhost:8080/"
    },
    "id": "lkGynZ3m-nZj",
    "outputId": "2e23d8e1-2b09-4b34-c414-0c8a9e80ace7"
   },
   "outputs": [
    {
     "name": "stdout",
     "output_type": "stream",
     "text": [
      "Delhi\n"
     ]
    }
   ],
   "source": [
    "country_info = {\"name\": \"India\",\"capital\": \"Delhi\"}\n",
    "print(country_info[\"capital\"])"
   ]
  },
  {
   "cell_type": "code",
   "execution_count": 48,
   "metadata": {
    "colab": {
     "base_uri": "https://localhost:8080/"
    },
    "id": "42FZJNzK-sOb",
    "outputId": "ff3f195c-d1cc-45ab-ce72-637135942ffb"
   },
   "outputs": [
    {
     "name": "stdout",
     "output_type": "stream",
     "text": [
      "{'name': 'Japan', 'capital': 'Tokyo'}\n"
     ]
    }
   ],
   "source": [
    "# Creating a dictionary\n",
    "country_info = {\"name\": \"Japan\",\"capital\": \"Tokyo\"}\n",
    "print(country_info)"
   ]
  },
  {
   "cell_type": "code",
   "execution_count": 49,
   "metadata": {
    "colab": {
     "base_uri": "https://localhost:8080/"
    },
    "id": "KYFY3tM0_Aky",
    "outputId": "ea05b842-776a-4d55-a1c1-bf9fa45aa686"
   },
   "outputs": [
    {
     "name": "stdout",
     "output_type": "stream",
     "text": [
      "{'name': 'Japan', 'capital': 'Tokyo'}\n",
      "Japan\n",
      "Tokyo\n"
     ]
    }
   ],
   "source": [
    "# Creating a dictionary\n",
    "country_info = {\"name\": \"Japan\",\"capital\": \"Tokyo\"}\n",
    "print(country_info)\n",
    "print(country_info[\"name\"])\n",
    "print(country_info[\"capital\"])"
   ]
  },
  {
   "cell_type": "code",
   "execution_count": 50,
   "metadata": {
    "colab": {
     "base_uri": "https://localhost:8080/"
    },
    "id": "PyC-MItv_SgF",
    "outputId": "d5bf9b47-b816-42da-c27f-a97d39daf249"
   },
   "outputs": [
    {
     "name": "stdout",
     "output_type": "stream",
     "text": [
      "{'name': 'Japan', 'capital': 'Tokyo', 'population': '139.69M'}\n"
     ]
    }
   ],
   "source": [
    "country_info[\"population\"]='139.69M'\n",
    "print(country_info)"
   ]
  },
  {
   "cell_type": "code",
   "execution_count": 51,
   "metadata": {
    "colab": {
     "base_uri": "https://localhost:8080/"
    },
    "id": "KbGhVmF0__Mn",
    "outputId": "36d4e3c6-9b27-45f4-94cf-d7d74f07d97e"
   },
   "outputs": [
    {
     "name": "stdout",
     "output_type": "stream",
     "text": [
      "{'name': 'Japan', 'capital': 'Tokyo', 'population': '139.69M', 'Regions': ['Hokkakido', 'Tohoku', 'Kanto', 'Chubu', 'Kinki', 'Chugoku']}\n"
     ]
    }
   ],
   "source": [
    "country_info[\"Regions\"]= ['Hokkakido','Tohoku', 'Kanto', 'Chubu', 'Kinki', 'Chugoku']\n",
    "print(country_info)"
   ]
  },
  {
   "cell_type": "markdown",
   "metadata": {
    "id": "jbMGZQoKBgNp"
   },
   "source": [
    "Examples for Arthmetic operation"
   ]
  },
  {
   "cell_type": "code",
   "execution_count": 52,
   "metadata": {
    "id": "lQFF2T56Bv6B"
   },
   "outputs": [],
   "source": [
    "x = 5\n",
    "y = 23"
   ]
  },
  {
   "cell_type": "code",
   "execution_count": 53,
   "metadata": {
    "colab": {
     "base_uri": "https://localhost:8080/"
    },
    "id": "T7ve4ePcC-cs",
    "outputId": "fc155e78-55bd-479a-ed0f-cdd444ef8de8"
   },
   "outputs": [
    {
     "name": "stdout",
     "output_type": "stream",
     "text": [
      "Addition,x(5)+y(25)=\n"
     ]
    },
    {
     "data": {
      "text/plain": [
       "(None, 28)"
      ]
     },
     "execution_count": 53,
     "metadata": {},
     "output_type": "execute_result"
    }
   ],
   "source": [
    "# Addition\n",
    "print(\"Addition,x(5)+y(25)=\"),x+y"
   ]
  },
  {
   "cell_type": "code",
   "execution_count": 54,
   "metadata": {
    "colab": {
     "base_uri": "https://localhost:8080/"
    },
    "id": "AoCYLNvvDslj",
    "outputId": "18754f94-0c12-43ec-b77c-628301515924"
   },
   "outputs": [
    {
     "name": "stdout",
     "output_type": "stream",
     "text": [
      "Subtraction,x(5)-y(25)=\n"
     ]
    },
    {
     "data": {
      "text/plain": [
       "(None, -18)"
      ]
     },
     "execution_count": 54,
     "metadata": {},
     "output_type": "execute_result"
    }
   ],
   "source": [
    "# Subtraction\n",
    "print(\"Subtraction,x(5)-y(25)=\"),x-y"
   ]
  },
  {
   "cell_type": "code",
   "execution_count": 55,
   "metadata": {
    "colab": {
     "base_uri": "https://localhost:8080/"
    },
    "id": "JSLgDACxEZZJ",
    "outputId": "0bd9df08-6428-4b4a-8d14-70d7e382c67c"
   },
   "outputs": [
    {
     "name": "stdout",
     "output_type": "stream",
     "text": [
      "Division,x(5)/y(25)=\n"
     ]
    },
    {
     "data": {
      "text/plain": [
       "(None, 0)"
      ]
     },
     "execution_count": 55,
     "metadata": {},
     "output_type": "execute_result"
    }
   ],
   "source": [
    "# Division\n",
    "print(\"Division,x(5)/y(25)=\"),x//y"
   ]
  },
  {
   "cell_type": "code",
   "execution_count": 56,
   "metadata": {
    "colab": {
     "base_uri": "https://localhost:8080/"
    },
    "id": "-QOmTeJGEmit",
    "outputId": "111c8320-1895-47b5-9ea6-29b29a9050c1"
   },
   "outputs": [
    {
     "name": "stdout",
     "output_type": "stream",
     "text": [
      "Multiplication,x(5)*y(25)=\n"
     ]
    },
    {
     "data": {
      "text/plain": [
       "(None, 115)"
      ]
     },
     "execution_count": 56,
     "metadata": {},
     "output_type": "execute_result"
    }
   ],
   "source": [
    "# Multiplication\n",
    "print(\"Multiplication,x(5)*y(25)=\"),x*y"
   ]
  },
  {
   "cell_type": "code",
   "execution_count": 57,
   "metadata": {
    "colab": {
     "base_uri": "https://localhost:8080/"
    },
    "id": "opy1ye83Ey-T",
    "outputId": "ae10f4d8-ad89-4cc2-9899-1e6513430681"
   },
   "outputs": [
    {
     "name": "stdout",
     "output_type": "stream",
     "text": [
      "Division,x(5)/y(25)=\n"
     ]
    },
    {
     "data": {
      "text/plain": [
       "(None, 0.21739130434782608)"
      ]
     },
     "execution_count": 57,
     "metadata": {},
     "output_type": "execute_result"
    }
   ],
   "source": [
    "# Division\n",
    "print(\"Division,x(5)/y(25)=\"),x/y"
   ]
  },
  {
   "cell_type": "markdown",
   "metadata": {
    "id": "MjllRwmkFEre"
   },
   "source": [
    "Conditional Statement - If and Else"
   ]
  },
  {
   "cell_type": "code",
   "execution_count": 58,
   "metadata": {
    "colab": {
     "base_uri": "https://localhost:8080/"
    },
    "id": "QBHV8P5YFRiT",
    "outputId": "1f7a4b22-b476-451a-b878-0fa598d25ac3"
   },
   "outputs": [
    {
     "name": "stdout",
     "output_type": "stream",
     "text": [
      "over 10\n"
     ]
    }
   ],
   "source": [
    "# using the if statement\n",
    "x=19\n",
    "if x < 10 :\n",
    "  print(\"less than 10\")\n",
    "else:\n",
    "  print(\"over 10\")"
   ]
  },
  {
   "cell_type": "code",
   "execution_count": 59,
   "metadata": {
    "colab": {
     "base_uri": "https://localhost:8080/"
    },
    "id": "DW0l5SPjFwQl",
    "outputId": "2d224b0f-1375-4bf3-8a3f-806c02751055"
   },
   "outputs": [
    {
     "name": "stdout",
     "output_type": "stream",
     "text": [
      "less than 10\n"
     ]
    }
   ],
   "source": [
    "# using the if statement\n",
    "x=1\n",
    "if x < 10 :\n",
    "  print(\"less than 10\")\n",
    "else:\n",
    "  print(\"over 10\")"
   ]
  },
  {
   "cell_type": "code",
   "execution_count": 60,
   "metadata": {
    "colab": {
     "base_uri": "https://localhost:8080/"
    },
    "id": "wFgIFxJcF00E",
    "outputId": "59baa358-9496-481f-fb03-14252042fb03"
   },
   "outputs": [
    {
     "name": "stdout",
     "output_type": "stream",
     "text": [
      "over 20\n"
     ]
    }
   ],
   "source": [
    "# using the if statement\n",
    "x=29\n",
    "if x < 10 :\n",
    "  print(\"less than 10\")\n",
    "elif x > 10 and x <= 19 :\n",
    "  print(\"Greater than 10 but less than 20\")\n",
    "else:\n",
    "  print(\"over 20\")\n",
    "  "
   ]
  },
  {
   "cell_type": "markdown",
   "metadata": {
    "id": "xHFKhZZaGhmw"
   },
   "source": [
    "Boolean in condition"
   ]
  },
  {
   "cell_type": "code",
   "execution_count": 61,
   "metadata": {
    "colab": {
     "base_uri": "https://localhost:8080/"
    },
    "id": "eMU6IFydGm3G",
    "outputId": "3054affe-bdce-4d41-c715-b4093e8856c2"
   },
   "outputs": [
    {
     "name": "stdout",
     "output_type": "stream",
     "text": [
      "statement was true\n"
     ]
    }
   ],
   "source": [
    "a = True\n",
    "if a:\n",
    "  print(\"statement was true\")"
   ]
  },
  {
   "cell_type": "code",
   "execution_count": 62,
   "metadata": {
    "colab": {
     "base_uri": "https://localhost:8080/"
    },
    "id": "HZU5BLT2G3IT",
    "outputId": "06240b2f-1ad7-475b-e720-8f8786dae19b"
   },
   "outputs": [
    {
     "name": "stdout",
     "output_type": "stream",
     "text": [
      "statement was false\n"
     ]
    }
   ],
   "source": [
    "a = False\n",
    "if a:\n",
    "  print(\"statement was true\")\n",
    "else: \n",
    "  print(\"statement was false\")"
   ]
  },
  {
   "cell_type": "markdown",
   "metadata": {
    "id": "Tbf5kCuUHNYG"
   },
   "source": [
    "Loops"
   ]
  },
  {
   "cell_type": "code",
   "execution_count": 63,
   "metadata": {
    "colab": {
     "base_uri": "https://localhost:8080/"
    },
    "id": "s63s2rtWHQdJ",
    "outputId": "c8f0f3db-4990-47a5-fb4e-9180ee3c806e"
   },
   "outputs": [
    {
     "name": "stdout",
     "output_type": "stream",
     "text": [
      "[0, 1, 2, 3, 4]\n"
     ]
    }
   ],
   "source": [
    "print(list(range(5)))"
   ]
  },
  {
   "cell_type": "code",
   "execution_count": 64,
   "metadata": {
    "colab": {
     "base_uri": "https://localhost:8080/"
    },
    "id": "b1dOfo06HYQy",
    "outputId": "8edd27c3-5a16-4ad7-885b-051457baae40"
   },
   "outputs": [
    {
     "name": "stdout",
     "output_type": "stream",
     "text": [
      "[0, 1, 2, 3, 4]\n"
     ]
    }
   ],
   "source": [
    "print(list(range(0,5)))"
   ]
  },
  {
   "cell_type": "code",
   "execution_count": 65,
   "metadata": {
    "colab": {
     "base_uri": "https://localhost:8080/"
    },
    "id": "CiLmBxoWHf3i",
    "outputId": "f1f02359-676c-4c9a-96ba-87e4d64da51c"
   },
   "outputs": [
    {
     "name": "stdout",
     "output_type": "stream",
     "text": [
      "[1, 2, 3]\n"
     ]
    }
   ],
   "source": [
    "print(list(range(1,4)))"
   ]
  },
  {
   "cell_type": "code",
   "execution_count": 66,
   "metadata": {
    "colab": {
     "base_uri": "https://localhost:8080/"
    },
    "id": "PGEFuDsKHlwk",
    "outputId": "0e77a00b-1fb0-434e-ac1b-8e6df2212a81"
   },
   "outputs": [
    {
     "name": "stdout",
     "output_type": "stream",
     "text": [
      "[1, 2, 3, 4]\n"
     ]
    }
   ],
   "source": [
    "print(list(range(1,5)))"
   ]
  },
  {
   "cell_type": "code",
   "execution_count": 67,
   "metadata": {
    "colab": {
     "base_uri": "https://localhost:8080/"
    },
    "id": "uR1sbnC5HoXc",
    "outputId": "cf5dbf1e-5970-4082-c59c-972f228ec782"
   },
   "outputs": [
    {
     "name": "stdout",
     "output_type": "stream",
     "text": [
      "0\n",
      "1\n",
      "2\n",
      "3\n",
      "4\n"
     ]
    }
   ],
   "source": [
    "# for loop\n",
    "for i in range(0,5):\n",
    "  print(i)"
   ]
  },
  {
   "cell_type": "code",
   "execution_count": 68,
   "metadata": {
    "colab": {
     "base_uri": "https://localhost:8080/"
    },
    "id": "Geyi_njsH2lt",
    "outputId": "c1fb9092-7ead-4c9f-a37b-af8bb0f892c2"
   },
   "outputs": [
    {
     "name": "stdout",
     "output_type": "stream",
     "text": [
      "a\n",
      "b\n",
      "c\n",
      "d\n"
     ]
    }
   ],
   "source": [
    "items = ['a', 'b', 'c','d']\n",
    "for item in items:\n",
    "  print(item)"
   ]
  },
  {
   "cell_type": "markdown",
   "metadata": {
    "id": "naQ5r9bQIPwa"
   },
   "source": [
    "**While loops**"
   ]
  },
  {
   "cell_type": "code",
   "execution_count": 69,
   "metadata": {
    "colab": {
     "base_uri": "https://localhost:8080/"
    },
    "id": "Yayq5xrwILJ2",
    "outputId": "ceb37f8c-3702-4fc5-cfac-d60f02a6adb1"
   },
   "outputs": [
    {
     "name": "stdout",
     "output_type": "stream",
     "text": [
      "1\n",
      "2\n",
      "3\n",
      "4\n",
      "5\n"
     ]
    }
   ],
   "source": [
    "x = 0\n",
    "while x < 5:\n",
    "  x += 1\n",
    "  print(x)"
   ]
  },
  {
   "cell_type": "code",
   "execution_count": 70,
   "metadata": {
    "colab": {
     "base_uri": "https://localhost:8080/"
    },
    "id": "ePYDlYDVIk5G",
    "outputId": "2d4582fa-b996-46fc-fb86-beef507de9bb"
   },
   "outputs": [
    {
     "name": "stdout",
     "output_type": "stream",
     "text": [
      "1\n",
      "2\n",
      "3\n",
      "4\n",
      "5\n"
     ]
    }
   ],
   "source": [
    "x = 0\n",
    "while True:\n",
    "  if x == 5:\n",
    "    break\n",
    "  x += 1\n",
    "  print(x)"
   ]
  },
  {
   "cell_type": "markdown",
   "metadata": {
    "id": "okLMlxkKJFm_"
   },
   "source": [
    "**Functions**"
   ]
  },
  {
   "cell_type": "code",
   "execution_count": 71,
   "metadata": {
    "id": "tVEtIypRIxTu"
   },
   "outputs": [],
   "source": [
    "# simple functions to return Area of circle\n",
    "def Areacircle(radius):\n",
    "  area= 3.14*(radius**2)\n",
    "  return area"
   ]
  },
  {
   "cell_type": "code",
   "execution_count": 72,
   "metadata": {
    "colab": {
     "base_uri": "https://localhost:8080/"
    },
    "id": "g363oYUqJldk",
    "outputId": "a5b74e23-39a0-4781-bb55-c3be73c0e9e7"
   },
   "outputs": [
    {
     "data": {
      "text/plain": [
       "62.68389536000001"
      ]
     },
     "execution_count": 72,
     "metadata": {},
     "output_type": "execute_result"
    }
   ],
   "source": [
    "Areacircle(4.468)"
   ]
  },
  {
   "cell_type": "code",
   "execution_count": 73,
   "metadata": {
    "colab": {
     "base_uri": "https://localhost:8080/"
    },
    "id": "8XZSA541JtnO",
    "outputId": "b0bcf8c9-bce8-4b36-e122-50119ea3ae6f"
   },
   "outputs": [
    {
     "data": {
      "text/plain": [
       "50.24"
      ]
     },
     "execution_count": 73,
     "metadata": {},
     "output_type": "execute_result"
    }
   ],
   "source": [
    "Areacircle(4)"
   ]
  },
  {
   "cell_type": "code",
   "execution_count": 74,
   "metadata": {
    "id": "DuRUq6kFJwcz"
   },
   "outputs": [],
   "source": [
    "# simple function to find Volume of cyliender\n",
    "def Volumecyliender(radius,height):\n",
    "  volume= 3.14*(radius**2)*height\n",
    "  return volume"
   ]
  },
  {
   "cell_type": "code",
   "execution_count": 75,
   "metadata": {
    "colab": {
     "base_uri": "https://localhost:8080/"
    },
    "id": "PqbRJFEeKVkY",
    "outputId": "508dfd61-4bea-408f-bb0e-1e3cc7af768d"
   },
   "outputs": [
    {
     "data": {
      "text/plain": [
       "471.0"
      ]
     },
     "execution_count": 75,
     "metadata": {},
     "output_type": "execute_result"
    }
   ],
   "source": [
    "Volumecyliender(5,6)"
   ]
  },
  {
   "cell_type": "code",
   "execution_count": 76,
   "metadata": {
    "colab": {
     "base_uri": "https://localhost:8080/"
    },
    "id": "g32_Z5ODKfL5",
    "outputId": "d3c839b7-ffb9-4ccd-8a7a-421b3fb01747"
   },
   "outputs": [
    {
     "data": {
      "text/plain": [
       "24021.0"
      ]
     },
     "execution_count": 76,
     "metadata": {},
     "output_type": "execute_result"
    }
   ],
   "source": [
    "Volumecyliender(radius=15,height=34)"
   ]
  },
  {
   "cell_type": "code",
   "execution_count": 77,
   "metadata": {
    "colab": {
     "base_uri": "https://localhost:8080/"
    },
    "id": "lcFGpkg4KsUG",
    "outputId": "47ca2b20-94ad-4c13-8542-82ab508dde0e"
   },
   "outputs": [
    {
     "data": {
      "text/plain": [
       "39564.0"
      ]
     },
     "execution_count": 77,
     "metadata": {},
     "output_type": "execute_result"
    }
   ],
   "source": [
    "Volumecyliender(radius=15,height=56)"
   ]
  },
  {
   "cell_type": "code",
   "execution_count": 78,
   "metadata": {
    "colab": {
     "base_uri": "https://localhost:8080/"
    },
    "id": "QqC_D093K2ED",
    "outputId": "63683336-d0a8-49be-cbf7-63d5852983bc"
   },
   "outputs": [
    {
     "data": {
      "text/plain": [
       "25"
      ]
     },
     "execution_count": 78,
     "metadata": {},
     "output_type": "execute_result"
    }
   ],
   "source": [
    "def Areasquare(length):\n",
    "  area=length**2\n",
    "  return area\n",
    "Areasquare(5)"
   ]
  }
 ],
 "metadata": {
  "colab": {
   "collapsed_sections": [],
   "name": "prog1.ipynb",
   "provenance": []
  },
  "kernelspec": {
   "display_name": "Python 3",
   "language": "python",
   "name": "python3"
  },
  "language_info": {
   "codemirror_mode": {
    "name": "ipython",
    "version": 3
   },
   "file_extension": ".py",
   "mimetype": "text/x-python",
   "name": "python",
   "nbconvert_exporter": "python",
   "pygments_lexer": "ipython3",
   "version": "3.8.3"
  }
 },
 "nbformat": 4,
 "nbformat_minor": 1
}
