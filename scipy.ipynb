{
 "cells": [
  {
   "cell_type": "code",
   "execution_count": 1,
   "metadata": {},
   "outputs": [
    {
     "name": "stdout",
     "output_type": "stream",
     "text": [
      "Requirement already satisfied: scipy in c:\\programdata\\anaconda3\\lib\\site-packages (1.5.0)\n",
      "Requirement already satisfied: numpy>=1.14.5 in c:\\programdata\\anaconda3\\lib\\site-packages (from scipy) (1.18.5)\n",
      "Note: you may need to restart the kernel to use updated packages.\n"
     ]
    }
   ],
   "source": [
    "pip install scipy"
   ]
  },
  {
   "cell_type": "code",
   "execution_count": 3,
   "metadata": {},
   "outputs": [
    {
     "name": "stdout",
     "output_type": "stream",
     "text": [
      "1.5.0\n"
     ]
    }
   ],
   "source": [
    "import scipy\n",
    "print(scipy.__version__)"
   ]
  },
  {
   "cell_type": "markdown",
   "metadata": {},
   "source": [
    "#  scientific computing using SCIPY"
   ]
  },
  {
   "cell_type": "code",
   "execution_count": 4,
   "metadata": {},
   "outputs": [
    {
     "name": "stdout",
     "output_type": "stream",
     "text": [
      "3.141592653589793\n"
     ]
    }
   ],
   "source": [
    "from scipy import constants\n",
    "print(constants.pi)"
   ]
  },
  {
   "cell_type": "code",
   "execution_count": 5,
   "metadata": {},
   "outputs": [
    {
     "name": "stdout",
     "output_type": "stream",
     "text": [
      "['Avogadro', 'Boltzmann', 'Btu', 'Btu_IT', 'Btu_th', 'ConstantWarning', 'G', 'Julian_year', 'N_A', 'Planck', 'R', 'Rydberg', 'Stefan_Boltzmann', 'Wien', '__all__', '__builtins__', '__cached__', '__doc__', '__file__', '__loader__', '__name__', '__package__', '__path__', '__spec__', '_obsolete_constants', 'acre', 'alpha', 'angstrom', 'arcmin', 'arcminute', 'arcsec', 'arcsecond', 'astronomical_unit', 'atm', 'atmosphere', 'atomic_mass', 'atto', 'au', 'bar', 'barrel', 'bbl', 'blob', 'c', 'calorie', 'calorie_IT', 'calorie_th', 'carat', 'centi', 'codata', 'constants', 'convert_temperature', 'day', 'deci', 'degree', 'degree_Fahrenheit', 'deka', 'dyn', 'dyne', 'e', 'eV', 'electron_mass', 'electron_volt', 'elementary_charge', 'epsilon_0', 'erg', 'exa', 'exbi', 'femto', 'fermi', 'find', 'fine_structure', 'fluid_ounce', 'fluid_ounce_US', 'fluid_ounce_imp', 'foot', 'g', 'gallon', 'gallon_US', 'gallon_imp', 'gas_constant', 'gibi', 'giga', 'golden', 'golden_ratio', 'grain', 'gram', 'gravitational_constant', 'h', 'hbar', 'hectare', 'hecto', 'horsepower', 'hour', 'hp', 'inch', 'k', 'kgf', 'kibi', 'kilo', 'kilogram_force', 'kmh', 'knot', 'lambda2nu', 'lb', 'lbf', 'light_year', 'liter', 'litre', 'long_ton', 'm_e', 'm_n', 'm_p', 'm_u', 'mach', 'mebi', 'mega', 'metric_ton', 'micro', 'micron', 'mil', 'mile', 'milli', 'minute', 'mmHg', 'mph', 'mu_0', 'nano', 'nautical_mile', 'neutron_mass', 'nu2lambda', 'ounce', 'oz', 'parsec', 'pebi', 'peta', 'physical_constants', 'pi', 'pico', 'point', 'pound', 'pound_force', 'precision', 'proton_mass', 'psi', 'pt', 'short_ton', 'sigma', 'slinch', 'slug', 'speed_of_light', 'speed_of_sound', 'stone', 'survey_foot', 'survey_mile', 'tebi', 'tera', 'test', 'ton_TNT', 'torr', 'troy_ounce', 'troy_pound', 'u', 'unit', 'value', 'week', 'yard', 'year', 'yobi', 'yotta', 'zebi', 'zepto', 'zero_Celsius', 'zetta']\n"
     ]
    }
   ],
   "source": [
    "from scipy import constants\n",
    "print(dir(constants))"
   ]
  },
  {
   "cell_type": "code",
   "execution_count": 6,
   "metadata": {},
   "outputs": [
    {
     "name": "stdout",
     "output_type": "stream",
     "text": [
      "6.02214076e+23\n"
     ]
    }
   ],
   "source": [
    "from scipy import constants\n",
    "print(constants.Avogadro)"
   ]
  },
  {
   "cell_type": "code",
   "execution_count": 7,
   "metadata": {},
   "outputs": [
    {
     "name": "stdout",
     "output_type": "stream",
     "text": [
      "1054.3502644888888\n"
     ]
    }
   ],
   "source": [
    "from scipy import constants\n",
    "print(constants.Btu_th)"
   ]
  },
  {
   "cell_type": "code",
   "execution_count": 8,
   "metadata": {},
   "outputs": [
    {
     "name": "stdout",
     "output_type": "stream",
     "text": [
      "6.6743e-11\n"
     ]
    }
   ],
   "source": [
    "from scipy import constants\n",
    "print(constants.G)"
   ]
  },
  {
   "cell_type": "code",
   "execution_count": 9,
   "metadata": {},
   "outputs": [
    {
     "name": "stdout",
     "output_type": "stream",
     "text": [
      "1e+21\n"
     ]
    }
   ],
   "source": [
    "from scipy import constants\n",
    "print(constants.zetta)"
   ]
  },
  {
   "cell_type": "code",
   "execution_count": 10,
   "metadata": {},
   "outputs": [
    {
     "name": "stdout",
     "output_type": "stream",
     "text": [
      "1.380649e-23\n",
      "<class 'scipy.constants.codata.ConstantWarning'>\n",
      "1e-21\n",
      "1180591620717411303424\n",
      "0.00035277777777777776\n",
      "1.380649e-23\n",
      "9.80665\n"
     ]
    }
   ],
   "source": [
    "from scipy import constants\n",
    "print(constants.Boltzmann)\n",
    "print(constants.ConstantWarning)\n",
    "print(constants.zepto)\n",
    "print(constants.zebi)\n",
    "print(constants.pt)\n",
    "print(constants.k)\n",
    "print(constants.kgf)"
   ]
  },
  {
   "cell_type": "code",
   "execution_count": 11,
   "metadata": {},
   "outputs": [
    {
     "name": "stdout",
     "output_type": "stream",
     "text": [
      "1000.0\n",
      "0.01\n",
      "0.001\n",
      "0.001\n",
      "3600.0\n",
      "0.0254\n",
      "1.6605390666e-27\n",
      "149597870700.0\n"
     ]
    }
   ],
   "source": [
    "from scipy import constants\n",
    "print(constants.kilo)\n",
    "print(constants.centi)\n",
    "print(constants.litre)\n",
    "print(constants.liter)\n",
    "print(constants.hour)\n",
    "print(constants.inch)\n",
    "print(constants.atomic_mass)\n",
    "print(constants.astronomical_unit)"
   ]
  },
  {
   "cell_type": "code",
   "execution_count": 1,
   "metadata": {},
   "outputs": [
    {
     "name": "stdout",
     "output_type": "stream",
     "text": [
      "{'Wien displacement law constant': True, 'atomic unit of 1st hyperpolarizablity': True, 'atomic unit of 2nd hyperpolarizablity': True, 'atomic unit of electric dipole moment': True, 'atomic unit of electric polarizablity': True, 'atomic unit of electric quadrupole moment': True, 'atomic unit of magn. dipole moment': True, 'atomic unit of magn. flux density': True, 'deuteron magn. moment': True, 'deuteron magn. moment to Bohr magneton ratio': True, 'deuteron magn. moment to nuclear magneton ratio': True, 'deuteron-electron magn. moment ratio': True, 'deuteron-proton magn. moment ratio': True, 'deuteron-neutron magn. moment ratio': True, 'electron gyromagn. ratio': True, 'electron gyromagn. ratio over 2 pi': True, 'electron magn. moment': True, 'electron magn. moment to Bohr magneton ratio': True, 'electron magn. moment to nuclear magneton ratio': True, 'electron magn. moment anomaly': True, 'electron to shielded proton magn. moment ratio': True, 'electron to shielded helion magn. moment ratio': True, 'electron-deuteron magn. moment ratio': True, 'electron-muon magn. moment ratio': True, 'electron-neutron magn. moment ratio': True, 'electron-proton magn. moment ratio': True, 'magn. constant': True, 'magn. flux quantum': True, 'muon magn. moment': True, 'muon magn. moment to Bohr magneton ratio': True, 'muon magn. moment to nuclear magneton ratio': True, 'muon-proton magn. moment ratio': True, 'neutron gyromagn. ratio': True, 'neutron gyromagn. ratio over 2 pi': True, 'neutron magn. moment': True, 'neutron magn. moment to Bohr magneton ratio': True, 'neutron magn. moment to nuclear magneton ratio': True, 'neutron to shielded proton magn. moment ratio': True, 'neutron-electron magn. moment ratio': True, 'neutron-proton magn. moment ratio': True, 'proton gyromagn. ratio': True, 'proton gyromagn. ratio over 2 pi': True, 'proton magn. moment': True, 'proton magn. moment to Bohr magneton ratio': True, 'proton magn. moment to nuclear magneton ratio': True, 'proton magn. shielding correction': True, 'proton-neutron magn. moment ratio': True, 'shielded helion gyromagn. ratio': True, 'shielded helion gyromagn. ratio over 2 pi': True, 'shielded helion magn. moment': True, 'shielded helion magn. moment to Bohr magneton ratio': True, 'shielded helion magn. moment to nuclear magneton ratio': True, 'shielded helion to proton magn. moment ratio': True, 'shielded helion to shielded proton magn. moment ratio': True, 'shielded proton magn. moment': True, 'shielded proton magn. moment to Bohr magneton ratio': True, 'shielded proton magn. moment to nuclear magneton ratio': True, '{220} lattice spacing of silicon': True, 'lattice spacing of silicon': True, 'Bohr magneton in inverse meters per tesla': True, 'Boltzmann constant in inverse meters per kelvin': True, 'characteristic impedance of vacuum': True, 'Compton wavelength over 2 pi': True, 'electric constant': True, 'electron gyromag. ratio over 2 pi': True, 'elementary charge over h': True, 'Faraday constant for conventional electric current': True, 'mag. constant': True, 'molar Planck constant times c': True, 'muon Compton wavelength over 2 pi': True, 'neutron Compton wavelength over 2 pi': True, 'neutron gyromag. ratio over 2 pi': True, 'nuclear magneton in inverse meters per tesla': True, 'Planck constant in eV s': True, 'Planck constant over 2 pi': True, 'Planck constant over 2 pi in eV s': True, 'Planck constant over 2 pi times c in MeV fm': True, 'proton Compton wavelength over 2 pi': True, 'proton gyromag. ratio over 2 pi': True, 'shielded helion gyromag. ratio over 2 pi': True, 'shielded proton gyromag. ratio over 2 pi': True, 'tau Compton wavelength over 2 pi': True, 'tau mass energy equivalent in MeV': True, 'triton-electron mag. mom. ratio': True, 'triton-neutron mag. mom. ratio': True, 'triton-proton mag. mom. ratio': True, 'atomic unit of mom.um': True, 'natural unit of mom.um': True, 'natural unit of mom.um in MeV/c': True}\n",
      "0.031103476799999998\n",
      "0.15898729492799998\n",
      "340.5\n",
      "340.5\n"
     ]
    }
   ],
   "source": [
    "from scipy import constants\n",
    "print(constants._obsolete_constants)\n",
    "print(constants.troy_ounce)\n",
    "print(constants.barrel)\n",
    "print(constants.speed_of_sound)\n",
    "print(constants.mach)"
   ]
  },
  {
   "cell_type": "code",
   "execution_count": 18,
   "metadata": {},
   "outputs": [
    {
     "name": "stdout",
     "output_type": "stream",
     "text": [
      "60.0\n",
      "3600.0\n",
      "86400.0\n",
      "604800.0\n",
      "31536000.0\n",
      "31557600.0\n",
      "9460730472580800.0\n",
      "0.9143999999999999\n"
     ]
    }
   ],
   "source": [
    "from scipy import constants\n",
    "print(constants.minute)\n",
    "print(constants.hour)\n",
    "print(constants.day)\n",
    "print(constants.week)\n",
    "print(constants.year)\n",
    "print(constants.Julian_year)\n",
    "print(constants.light_year)\n",
    "print(constants.yard)"
   ]
  },
  {
   "cell_type": "code",
   "execution_count": 14,
   "metadata": {},
   "outputs": [
    {
     "name": "stdout",
     "output_type": "stream",
     "text": [
      "273.15\n",
      "0.5555555555555556\n"
     ]
    }
   ],
   "source": [
    "from scipy import constants\n",
    "print(constants.zero_Celsius)\n",
    "print(constants.degree_Fahrenheit)"
   ]
  },
  {
   "cell_type": "code",
   "execution_count": 16,
   "metadata": {},
   "outputs": [
    {
     "name": "stdout",
     "output_type": "stream",
     "text": [
      "1.602176634e-19\n",
      "1.602176634e-19\n"
     ]
    }
   ],
   "source": [
    "from scipy import constants\n",
    "print(constants.eV)\n",
    "print(constants.electron_volt)"
   ]
  },
  {
   "cell_type": "code",
   "execution_count": 17,
   "metadata": {},
   "outputs": [
    {
     "name": "stdout",
     "output_type": "stream",
     "text": [
      "745.6998715822701\n",
      "745.6998715822701\n"
     ]
    }
   ],
   "source": [
    "from scipy import constants\n",
    "print(constants.hp)\n",
    "print(constants.horsepower)"
   ]
  },
  {
   "cell_type": "markdown",
   "metadata": {},
   "source": [
    "# find the root of the given equations\n",
    "given equation is: x+cos(x)"
   ]
  },
  {
   "cell_type": "code",
   "execution_count": 22,
   "metadata": {},
   "outputs": [
    {
     "name": "stdout",
     "output_type": "stream",
     "text": [
      "[-0.73908513]\n"
     ]
    }
   ],
   "source": [
    "from scipy.optimize import root\n",
    "from math import cos\n",
    "\n",
    "def eqn(x):\n",
    "    return x+cos(x)\n",
    "    \n",
    "myroot = root(eqn,0)\n",
    "print(myroot.x)"
   ]
  },
  {
   "cell_type": "code",
   "execution_count": 24,
   "metadata": {},
   "outputs": [
    {
     "name": "stdout",
     "output_type": "stream",
     "text": [
      "[-0.73908513]\n"
     ]
    }
   ],
   "source": [
    "from scipy.optimize import root\n",
    "from math import cos\n",
    "\n",
    "def eqn(x):\n",
    "    return x+cos(x)\n",
    "    \n",
    "myroot = root(eqn,60)\n",
    "print(myroot.x)"
   ]
  },
  {
   "cell_type": "code",
   "execution_count": 25,
   "metadata": {},
   "outputs": [
    {
     "name": "stdout",
     "output_type": "stream",
     "text": [
      "    fjac: array([[-1.]])\n",
      "     fun: array([0.])\n",
      " message: 'The solution converged.'\n",
      "    nfev: 9\n",
      "     qtf: array([-2.66786593e-13])\n",
      "       r: array([-1.67361202])\n",
      "  status: 1\n",
      " success: True\n",
      "       x: array([-0.73908513])\n"
     ]
    }
   ],
   "source": [
    "from scipy.optimize import root\n",
    "from math import cos\n",
    "\n",
    "def eqn(x):\n",
    "    return x+cos(x)\n",
    "    \n",
    "myroot = root(eqn,0)\n",
    "print(myroot)\n"
   ]
  },
  {
   "cell_type": "code",
   "execution_count": 27,
   "metadata": {},
   "outputs": [
    {
     "name": "stdout",
     "output_type": "stream",
     "text": [
      "[-0.49999999]\n"
     ]
    }
   ],
   "source": [
    "from scipy.optimize import minimize\n",
    "from math import cos\n",
    "\n",
    "def eqn(x):\n",
    "    return x**2 + x+2\n",
    "    \n",
    "mymin = minimize(eqn,0,method = 'BFGS')\n",
    "print(mymin.x)\n"
   ]
  },
  {
   "cell_type": "code",
   "execution_count": 28,
   "metadata": {},
   "outputs": [
    {
     "name": "stdout",
     "output_type": "stream",
     "text": [
      "      fun: 1.75\n",
      " hess_inv: array([[0.49999999]])\n",
      "      jac: array([-0.])\n",
      "  message: 'Optimization terminated successfully.'\n",
      "     nfev: 8\n",
      "      nit: 2\n",
      "     njev: 4\n",
      "   status: 0\n",
      "  success: True\n",
      "        x: array([-0.49999999])\n"
     ]
    }
   ],
   "source": [
    "from scipy.optimize import minimize\n",
    "from math import cos\n",
    "\n",
    "def eqn(x):\n",
    "    return x**2 + x+2\n",
    "    \n",
    "mymin = minimize(eqn,0,method = 'BFGS')\n",
    "print(mymin)\n"
   ]
  },
  {
   "cell_type": "code",
   "execution_count": null,
   "metadata": {},
   "outputs": [],
   "source": []
  }
 ],
 "metadata": {
  "kernelspec": {
   "display_name": "Python 3",
   "language": "python",
   "name": "python3"
  },
  "language_info": {
   "codemirror_mode": {
    "name": "ipython",
    "version": 3
   },
   "file_extension": ".py",
   "mimetype": "text/x-python",
   "name": "python",
   "nbconvert_exporter": "python",
   "pygments_lexer": "ipython3",
   "version": "3.8.3"
  }
 },
 "nbformat": 4,
 "nbformat_minor": 4
}
